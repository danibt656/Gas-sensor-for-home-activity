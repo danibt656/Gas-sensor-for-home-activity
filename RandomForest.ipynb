{
 "cells": [
  {
   "cell_type": "markdown",
   "id": "534a5ef4",
   "metadata": {},
   "source": [
    "# Random Forest classifier"
   ]
  },
  {
   "cell_type": "code",
   "execution_count": 1,
   "id": "6bbb5f7b",
   "metadata": {},
   "outputs": [],
   "source": [
    "import numpy as np\n",
    "import matplotlib.pyplot as plt\n",
    "import matplotlib\n",
    "matplotlib.style.use('seaborn-v0_8-colorblind')\n",
    "import pandas as pd\n",
    "\n",
    "from sklearn.ensemble import RandomForestClassifier\n",
    "from sklearn.model_selection import train_test_split\n",
    "from sklearn import metrics\n",
    "from sklearn.model_selection import StratifiedKFold\n",
    "from sklearn.metrics import roc_curve, auc\n",
    "\n",
    "from src.utils.ds_formatter import format_all\n",
    "from src.dataset import *\n",
    "OLD_F_METADATA = \"./data/HT_Sensor_metadata.dat\"\n",
    "F_METADATA = \"./data/HT_Sensor_metadata_new.dat\"\n",
    "OLD_F_DATASET = \"./data/HT_Sensor_dataset.dat\"\n",
    "F_DATASET = \"./data/HT_Sensor_dataset_new.dat\"\n",
    "\n",
    "FEATURES = [\n",
    "  'R1', 'R1_mean', 'R1_median', 'R1_dev',\n",
    "  'R2', 'R2_mean', 'R2_median', 'R2_dev',\n",
    "  'R3', 'R3_mean', 'R3_median', 'R3_dev',\n",
    "  'R4', 'R4_mean', 'R4_median', 'R4_dev',\n",
    "  'R5', 'R5_mean', 'R5_median', 'R5_dev',\n",
    "  'R6', 'R6_mean', 'R6_median', 'R6_dev',\n",
    "  'R7', 'R7_mean', 'R7_median', 'R7_dev',\n",
    "  'R8', 'R8_mean', 'R8_median', 'R8_dev',\n",
    "  'Temp.', 'Temp._mean', 'Temp._median', 'Temp._dev',\n",
    "  'Humidity', 'Hum_mean', 'Hum_median', 'Hum_dev'\n",
    "]"
   ]
  },
  {
   "cell_type": "code",
   "execution_count": 2,
   "id": "b6b821e1",
   "metadata": {
    "scrolled": true
   },
   "outputs": [
    {
     "data": {
      "text/plain": [
       "(7032, 41)"
      ]
     },
     "execution_count": 2,
     "metadata": {},
     "output_type": "execute_result"
    }
   ],
   "source": [
    "df = get_dataset(build_dataset=False)\n",
    "df.shape"
   ]
  },
  {
   "cell_type": "code",
   "execution_count": 3,
   "id": "07de6f95",
   "metadata": {},
   "outputs": [
    {
     "name": "stdout",
     "output_type": "stream",
     "text": [
      "(4922, 40) (4922,) (2110, 40) (2110,)\n"
     ]
    }
   ],
   "source": [
    "X=df[FEATURES]\n",
    "y=df['class']\n",
    "\n",
    "X_train, X_test, y_train, y_test = train_test_split(X, y, test_size=0.3)\n",
    "print(f'{X_train.shape} {y_train.shape} {X_test.shape} {y_test.shape}')"
   ]
  },
  {
   "cell_type": "code",
   "execution_count": 4,
   "id": "354cf4eb",
   "metadata": {},
   "outputs": [],
   "source": [
    "from sklearn.ensemble import RandomForestClassifier\n",
    "\n",
    "clf=RandomForestClassifier(n_estimators=10, bootstrap=True, verbose=1)"
   ]
  },
  {
   "cell_type": "code",
   "execution_count": 5,
   "id": "f29be657",
   "metadata": {},
   "outputs": [
    {
     "name": "stderr",
     "output_type": "stream",
     "text": [
      "[Parallel(n_jobs=1)]: Using backend SequentialBackend with 1 concurrent workers.\n",
      "[Parallel(n_jobs=1)]: Done  10 out of  10 | elapsed:    0.0s finished\n"
     ]
    },
    {
     "data": {
      "text/html": [
       "<style>#sk-container-id-1 {color: black;background-color: white;}#sk-container-id-1 pre{padding: 0;}#sk-container-id-1 div.sk-toggleable {background-color: white;}#sk-container-id-1 label.sk-toggleable__label {cursor: pointer;display: block;width: 100%;margin-bottom: 0;padding: 0.3em;box-sizing: border-box;text-align: center;}#sk-container-id-1 label.sk-toggleable__label-arrow:before {content: \"▸\";float: left;margin-right: 0.25em;color: #696969;}#sk-container-id-1 label.sk-toggleable__label-arrow:hover:before {color: black;}#sk-container-id-1 div.sk-estimator:hover label.sk-toggleable__label-arrow:before {color: black;}#sk-container-id-1 div.sk-toggleable__content {max-height: 0;max-width: 0;overflow: hidden;text-align: left;background-color: #f0f8ff;}#sk-container-id-1 div.sk-toggleable__content pre {margin: 0.2em;color: black;border-radius: 0.25em;background-color: #f0f8ff;}#sk-container-id-1 input.sk-toggleable__control:checked~div.sk-toggleable__content {max-height: 200px;max-width: 100%;overflow: auto;}#sk-container-id-1 input.sk-toggleable__control:checked~label.sk-toggleable__label-arrow:before {content: \"▾\";}#sk-container-id-1 div.sk-estimator input.sk-toggleable__control:checked~label.sk-toggleable__label {background-color: #d4ebff;}#sk-container-id-1 div.sk-label input.sk-toggleable__control:checked~label.sk-toggleable__label {background-color: #d4ebff;}#sk-container-id-1 input.sk-hidden--visually {border: 0;clip: rect(1px 1px 1px 1px);clip: rect(1px, 1px, 1px, 1px);height: 1px;margin: -1px;overflow: hidden;padding: 0;position: absolute;width: 1px;}#sk-container-id-1 div.sk-estimator {font-family: monospace;background-color: #f0f8ff;border: 1px dotted black;border-radius: 0.25em;box-sizing: border-box;margin-bottom: 0.5em;}#sk-container-id-1 div.sk-estimator:hover {background-color: #d4ebff;}#sk-container-id-1 div.sk-parallel-item::after {content: \"\";width: 100%;border-bottom: 1px solid gray;flex-grow: 1;}#sk-container-id-1 div.sk-label:hover label.sk-toggleable__label {background-color: #d4ebff;}#sk-container-id-1 div.sk-serial::before {content: \"\";position: absolute;border-left: 1px solid gray;box-sizing: border-box;top: 0;bottom: 0;left: 50%;z-index: 0;}#sk-container-id-1 div.sk-serial {display: flex;flex-direction: column;align-items: center;background-color: white;padding-right: 0.2em;padding-left: 0.2em;position: relative;}#sk-container-id-1 div.sk-item {position: relative;z-index: 1;}#sk-container-id-1 div.sk-parallel {display: flex;align-items: stretch;justify-content: center;background-color: white;position: relative;}#sk-container-id-1 div.sk-item::before, #sk-container-id-1 div.sk-parallel-item::before {content: \"\";position: absolute;border-left: 1px solid gray;box-sizing: border-box;top: 0;bottom: 0;left: 50%;z-index: -1;}#sk-container-id-1 div.sk-parallel-item {display: flex;flex-direction: column;z-index: 1;position: relative;background-color: white;}#sk-container-id-1 div.sk-parallel-item:first-child::after {align-self: flex-end;width: 50%;}#sk-container-id-1 div.sk-parallel-item:last-child::after {align-self: flex-start;width: 50%;}#sk-container-id-1 div.sk-parallel-item:only-child::after {width: 0;}#sk-container-id-1 div.sk-dashed-wrapped {border: 1px dashed gray;margin: 0 0.4em 0.5em 0.4em;box-sizing: border-box;padding-bottom: 0.4em;background-color: white;}#sk-container-id-1 div.sk-label label {font-family: monospace;font-weight: bold;display: inline-block;line-height: 1.2em;}#sk-container-id-1 div.sk-label-container {text-align: center;}#sk-container-id-1 div.sk-container {/* jupyter's `normalize.less` sets `[hidden] { display: none; }` but bootstrap.min.css set `[hidden] { display: none !important; }` so we also need the `!important` here to be able to override the default hidden behavior on the sphinx rendered scikit-learn.org. See: https://github.com/scikit-learn/scikit-learn/issues/21755 */display: inline-block !important;position: relative;}#sk-container-id-1 div.sk-text-repr-fallback {display: none;}</style><div id=\"sk-container-id-1\" class=\"sk-top-container\"><div class=\"sk-text-repr-fallback\"><pre>RandomForestClassifier(n_estimators=10, verbose=1)</pre><b>In a Jupyter environment, please rerun this cell to show the HTML representation or trust the notebook. <br />On GitHub, the HTML representation is unable to render, please try loading this page with nbviewer.org.</b></div><div class=\"sk-container\" hidden><div class=\"sk-item\"><div class=\"sk-estimator sk-toggleable\"><input class=\"sk-toggleable__control sk-hidden--visually\" id=\"sk-estimator-id-1\" type=\"checkbox\" checked><label for=\"sk-estimator-id-1\" class=\"sk-toggleable__label sk-toggleable__label-arrow\">RandomForestClassifier</label><div class=\"sk-toggleable__content\"><pre>RandomForestClassifier(n_estimators=10, verbose=1)</pre></div></div></div></div></div>"
      ],
      "text/plain": [
       "RandomForestClassifier(n_estimators=10, verbose=1)"
      ]
     },
     "execution_count": 5,
     "metadata": {},
     "output_type": "execute_result"
    }
   ],
   "source": [
    "clf.fit(X_train,y_train)"
   ]
  },
  {
   "cell_type": "code",
   "execution_count": 6,
   "id": "5fa561ee",
   "metadata": {},
   "outputs": [
    {
     "name": "stderr",
     "output_type": "stream",
     "text": [
      "[Parallel(n_jobs=1)]: Using backend SequentialBackend with 1 concurrent workers.\n",
      "[Parallel(n_jobs=1)]: Done  10 out of  10 | elapsed:    0.0s finished\n"
     ]
    }
   ],
   "source": [
    "y_pred=clf.predict(X_test)"
   ]
  },
  {
   "cell_type": "code",
   "execution_count": 7,
   "id": "ae9434dd",
   "metadata": {},
   "outputs": [],
   "source": [
    "def print_metrics(y_test, y_pred):\n",
    "    print(\"Accuracy:\",metrics.accuracy_score(y_test, y_pred))\n",
    "    print(\"F1-score:\",metrics.f1_score(y_test, y_pred, average='weighted'))\n",
    "    plt.rcParams['figure.dpi'] = 70\n",
    "    cm = metrics.confusion_matrix(y_test, y_pred)\n",
    "    cmdisp = metrics.ConfusionMatrixDisplay(confusion_matrix=cm, display_labels=clf.classes_)\n",
    "    cmdisp.plot()\n",
    "    plt.show()"
   ]
  },
  {
   "cell_type": "code",
   "execution_count": 8,
   "id": "59f2b7ab",
   "metadata": {},
   "outputs": [
    {
     "name": "stdout",
     "output_type": "stream",
     "text": [
      "Accuracy: 0.9990521327014218\n",
      "F1-score: 0.9990521327014218\n"
     ]
    },
    {
     "data": {
      "image/png": "[encoded data removed]",
      "text/plain": [
       "<Figure size 448x336 with 2 Axes>"
      ]
     },
     "metadata": {},
     "output_type": "display_data"
    }
   ],
   "source": [
    "print_metrics(y_test, y_pred)"
   ]
  },
  {
   "cell_type": "code",
   "execution_count": null,
   "id": "4d776604",
   "metadata": {},
   "outputs": [],
   "source": [
    "feature_imp = pd.Series(clf.feature_importances_,index=FEATURES).sort_values(ascending=False)\n",
    "import seaborn as sns\n",
    "fig, ax = plt.subplots(figsize=(24, 25))\n",
    "# Creating a bar plot\n",
    "sns.barplot(x=feature_imp, y=feature_imp.index, ax=ax)\n",
    "# Add labels to your graph\n",
    "plt.xlabel('Feature Importance Score')\n",
    "plt.ylabel('Features')\n",
    "plt.title(\"Visualizing Important Features\")\n",
    "plt.legend()\n",
    "plt.show()"
   ]
  },
  {
   "cell_type": "markdown",
   "id": "e2546360",
   "metadata": {},
   "source": [
    "Ahora probamos a entrenar el modelo con las features mas relevantes"
   ]
  },
  {
   "cell_type": "code",
   "execution_count": 11,
   "id": "07a1de8e",
   "metadata": {},
   "outputs": [
    {
     "name": "stdout",
     "output_type": "stream",
     "text": [
      "(177589, 32) (177589,) (76110, 32) (76110,)\n"
     ]
    }
   ],
   "source": [
    "FEATURES_2 = [\n",
    "  'R1', 'R1_mean', 'R1_median', 'R1_dev',\n",
    "  'R2', 'R2_mean', 'R2_median', 'R2_dev',\n",
    "  'R3', 'R3_mean', 'R3_median', 'R3_dev',\n",
    "  'R4', 'R4_mean', 'R4_median', 'R4_dev',\n",
    "  'R5', 'R5_mean', 'R5_median', 'R5_dev',\n",
    "  'R6', 'R6_mean', 'R6_median', 'R6_dev',\n",
    "  'R7', 'R7_mean', 'R7_median', 'R7_dev',\n",
    "  'R8', 'R8_mean', 'R8_median', 'R8_dev'\n",
    "]\n",
    "X=df[FEATURES_2]\n",
    "y=df['class']\n",
    "\n",
    "X_train, X_test, y_train, y_test = train_test_split(X, y, test_size=0.3)\n",
    "print(f'{X_train.shape} {y_train.shape} {X_test.shape} {y_test.shape}')"
   ]
  },
  {
   "cell_type": "code",
   "execution_count": 12,
   "id": "9b4a55e1",
   "metadata": {},
   "outputs": [
    {
     "name": "stderr",
     "output_type": "stream",
     "text": [
      "[Parallel(n_jobs=1)]: Using backend SequentialBackend with 1 concurrent workers.\n",
      "[Parallel(n_jobs=1)]: Done  10 out of  10 | elapsed:    8.3s finished\n",
      "[Parallel(n_jobs=1)]: Using backend SequentialBackend with 1 concurrent workers.\n",
      "[Parallel(n_jobs=1)]: Done  10 out of  10 | elapsed:    0.0s finished\n"
     ]
    }
   ],
   "source": [
    "clf=RandomForestClassifier(n_estimators=10, bootstrap=True, verbose=1)\n",
    "clf.fit(X_train,y_train)\n",
    "y_pred=clf.predict(X_test)"
   ]
  },
  {
   "cell_type": "code",
   "execution_count": 13,
   "id": "5e153a40",
   "metadata": {},
   "outputs": [
    {
     "name": "stdout",
     "output_type": "stream",
     "text": [
      "Accuracy: 0.9999343056103008\n",
      "F1-score: 0.9999343062530386\n"
     ]
    },
    {
     "data": {
      "image/png": "[encoded data removed]",
      "text/plain": [
       "<Figure size 448x336 with 2 Axes>"
      ]
     },
     "metadata": {},
     "output_type": "display_data"
    }
   ],
   "source": [
    "print(\"Accuracy:\",metrics.accuracy_score(y_test, y_pred))\n",
    "print(\"F1-score:\",metrics.f1_score(y_test, y_pred, average='weighted'))\n",
    "plt.rcParams['figure.dpi'] = 70\n",
    "cm = metrics.confusion_matrix(y_test, y_pred)\n",
    "cmdisp = metrics.ConfusionMatrixDisplay(confusion_matrix=cm, display_labels=clf.classes_)\n",
    "cmdisp.plot()\n",
    "plt.show()"
   ]
  },
  {
   "cell_type": "markdown",
   "id": "2617758d",
   "metadata": {},
   "source": [
    "Como podemos ver, las métricas salen muy parecidas.\n",
    "\n",
    "Ahora vamos a probar con K-Fold Cross-Validation:"
   ]
  },
  {
   "cell_type": "code",
   "execution_count": 15,
   "id": "bc9fbf64",
   "metadata": {},
   "outputs": [],
   "source": [
    "def plot_roc_curve(fprs, tprs):\n",
    "    \"\"\"Plot the Receiver Operating Characteristic from a list\n",
    "    of true positive rates and false positive rates.\"\"\"\n",
    "    \n",
    "    # Initialize useful lists + the plot axes.\n",
    "    tprs_interp = []\n",
    "    aucs = []\n",
    "    mean_fpr = np.linspace(0, 1, 100)\n",
    "    f, ax = plt.subplots(figsize=(14,10))\n",
    "    \n",
    "    # Plot ROC for each K-Fold + compute AUC scores.\n",
    "    for i, (fpr, tpr) in enumerate(zip(fprs, tprs)):\n",
    "        tprs_interp.append(np.interp(mean_fpr, fpr, tpr))\n",
    "        tprs_interp[-1][0] = 0.0\n",
    "        roc_auc = auc(fpr, tpr)\n",
    "        aucs.append(roc_auc)\n",
    "        ax.plot(fpr, tpr, lw=1, alpha=0.3,\n",
    "                 label='ROC fold %d (AUC = %0.2f)' % (i, roc_auc))\n",
    "        \n",
    "    # Plot the luck line.\n",
    "    plt.plot([0, 1], [0, 1], linestyle='--', lw=2, color='r',\n",
    "             label='Luck', alpha=.8)\n",
    "    \n",
    "    # Plot the mean ROC.\n",
    "    mean_tpr = np.mean(tprs_interp, axis=0)\n",
    "    mean_tpr[-1] = 1.0\n",
    "    mean_auc = auc(mean_fpr, mean_tpr)\n",
    "    std_auc = np.std(aucs)\n",
    "    ax.plot(mean_fpr, mean_tpr, color='b',\n",
    "             label=r'Mean ROC (AUC = %0.2f $\\pm$ %0.2f)' % (mean_auc, std_auc),\n",
    "             lw=2, alpha=.8)\n",
    "    \n",
    "    # Plot the standard deviation around the mean ROC.\n",
    "    std_tpr = np.std(tprs_interp, axis=0)\n",
    "    tprs_upper = np.minimum(mean_tpr + std_tpr, 1)\n",
    "    tprs_lower = np.maximum(mean_tpr - std_tpr, 0)\n",
    "    ax.fill_between(mean_fpr, tprs_lower, tprs_upper, color='grey', alpha=.2,\n",
    "                     label=r'$\\pm$ 1 std. dev.')\n",
    "    \n",
    "    # Fine tune and show the plot.\n",
    "    ax.set_xlim([-0.05, 1.05])\n",
    "    ax.set_ylim([-0.05, 1.05])\n",
    "    ax.set_xlabel('False Positive Rate')\n",
    "    ax.set_ylabel('True Positive Rate')\n",
    "    ax.set_title('Receiver operating characteristic')\n",
    "    ax.legend(loc=\"lower right\")\n",
    "    plt.show()\n",
    "    return (f, ax)\n",
    "\n",
    "def compute_roc_auc(index):\n",
    "    y_predict = clf.predict_proba(X.iloc[index])[:,1]\n",
    "    fpr, tpr, thresholds = roc_curve(y.iloc[index], y_predict)\n",
    "    auc_score = auc(fpr, tpr)\n",
    "    return fpr, tpr, auc_score"
   ]
  },
  {
   "cell_type": "code",
   "execution_count": 16,
   "id": "a92bf2ac",
   "metadata": {},
   "outputs": [
    {
     "name": "stdout",
     "output_type": "stream",
     "text": [
      "FOLD nº0\n"
     ]
    },
    {
     "name": "stderr",
     "output_type": "stream",
     "text": [
      "[Parallel(n_jobs=1)]: Using backend SequentialBackend with 1 concurrent workers.\n",
      "[Parallel(n_jobs=1)]: Done  10 out of  10 | elapsed:   10.7s finished\n",
      "[Parallel(n_jobs=1)]: Using backend SequentialBackend with 1 concurrent workers.\n",
      "[Parallel(n_jobs=1)]: Done  10 out of  10 | elapsed:    0.0s finished\n"
     ]
    },
    {
     "name": "stdout",
     "output_type": "stream",
     "text": [
      "Accuracy:\t 0.9999408750492708\n",
      "Precision:\t 0.9999408815270068\n",
      "Recall:\t\t 0.9999408750492708\n",
      "F1-score:\t 0.9999408746053884\n"
     ]
    },
    {
     "data": {
      "image/png": "[encoded data removed]",
      "text/plain": [
       "<Figure size 320x240 with 2 Axes>"
      ]
     },
     "metadata": {},
     "output_type": "display_data"
    },
    {
     "name": "stdout",
     "output_type": "stream",
     "text": [
      "FOLD nº1\n"
     ]
    },
    {
     "name": "stderr",
     "output_type": "stream",
     "text": [
      "[Parallel(n_jobs=1)]: Using backend SequentialBackend with 1 concurrent workers.\n",
      "[Parallel(n_jobs=1)]: Done  10 out of  10 | elapsed:   10.1s finished\n",
      "[Parallel(n_jobs=1)]: Using backend SequentialBackend with 1 concurrent workers.\n",
      "[Parallel(n_jobs=1)]: Done  10 out of  10 | elapsed:    0.0s finished\n"
     ]
    },
    {
     "name": "stdout",
     "output_type": "stream",
     "text": [
      "Accuracy:\t 1.0\n",
      "Precision:\t 1.0\n",
      "Recall:\t\t 1.0\n",
      "F1-score:\t 1.0\n"
     ]
    },
    {
     "data": {
      "image/png": "[encoded data removed]",
      "text/plain": [
       "<Figure size 320x240 with 2 Axes>"
      ]
     },
     "metadata": {},
     "output_type": "display_data"
    },
    {
     "name": "stdout",
     "output_type": "stream",
     "text": [
      "FOLD nº2\n"
     ]
    },
    {
     "name": "stderr",
     "output_type": "stream",
     "text": [
      "[Parallel(n_jobs=1)]: Using backend SequentialBackend with 1 concurrent workers.\n",
      "[Parallel(n_jobs=1)]: Done  10 out of  10 | elapsed:   10.7s finished\n",
      "[Parallel(n_jobs=1)]: Using backend SequentialBackend with 1 concurrent workers.\n",
      "[Parallel(n_jobs=1)]: Done  10 out of  10 | elapsed:    0.0s finished\n"
     ]
    },
    {
     "name": "stdout",
     "output_type": "stream",
     "text": [
      "Accuracy:\t 1.0\n",
      "Precision:\t 1.0\n",
      "Recall:\t\t 1.0\n",
      "F1-score:\t 1.0\n"
     ]
    },
    {
     "data": {
      "image/png": "[encoded data removed]",
      "text/plain": [
       "<Figure size 320x240 with 2 Axes>"
      ]
     },
     "metadata": {},
     "output_type": "display_data"
    },
    {
     "name": "stdout",
     "output_type": "stream",
     "text": [
      "FOLD nº3\n"
     ]
    },
    {
     "name": "stderr",
     "output_type": "stream",
     "text": [
      "[Parallel(n_jobs=1)]: Using backend SequentialBackend with 1 concurrent workers.\n",
      "[Parallel(n_jobs=1)]: Done  10 out of  10 | elapsed:   11.0s finished\n",
      "[Parallel(n_jobs=1)]: Using backend SequentialBackend with 1 concurrent workers.\n",
      "[Parallel(n_jobs=1)]: Done  10 out of  10 | elapsed:    0.0s finished\n"
     ]
    },
    {
     "name": "stdout",
     "output_type": "stream",
     "text": [
      "Accuracy:\t 1.0\n",
      "Precision:\t 1.0\n",
      "Recall:\t\t 1.0\n",
      "F1-score:\t 1.0\n"
     ]
    },
    {
     "data": {
      "image/png": "[encoded data removed]",
      "text/plain": [
       "<Figure size 320x240 with 2 Axes>"
      ]
     },
     "metadata": {},
     "output_type": "display_data"
    },
    {
     "name": "stdout",
     "output_type": "stream",
     "text": [
      "FOLD nº4\n"
     ]
    },
    {
     "name": "stderr",
     "output_type": "stream",
     "text": [
      "[Parallel(n_jobs=1)]: Using backend SequentialBackend with 1 concurrent workers.\n",
      "[Parallel(n_jobs=1)]: Done  10 out of  10 | elapsed:   11.7s finished\n",
      "[Parallel(n_jobs=1)]: Using backend SequentialBackend with 1 concurrent workers.\n",
      "[Parallel(n_jobs=1)]: Done  10 out of  10 | elapsed:    0.0s finished\n"
     ]
    },
    {
     "name": "stdout",
     "output_type": "stream",
     "text": [
      "Accuracy:\t 1.0\n",
      "Precision:\t 1.0\n",
      "Recall:\t\t 1.0\n",
      "F1-score:\t 1.0\n"
     ]
    },
    {
     "data": {
      "image/png": "[encoded data removed]",
      "text/plain": [
       "<Figure size 320x240 with 2 Axes>"
      ]
     },
     "metadata": {},
     "output_type": "display_data"
    }
   ],
   "source": [
    "KFOLDS = 5\n",
    "cv = StratifiedKFold(n_splits=KFOLDS, shuffle=True)\n",
    "\n",
    "results = pd.DataFrame(columns=['training_score', 'test_score'])\n",
    "fprs, tprs, scores = [], [], []\n",
    "\n",
    "X=df[FEATURES]\n",
    "y=df['class']\n",
    "\n",
    "for (train, test), i in zip(cv.split(X, y), range(KFOLDS)):\n",
    "    print(f'FOLD nº{i}')\n",
    "    X_train, X_test, y_train, y_test = X.iloc[train], X.iloc[test], y.iloc[train], y.iloc[test]\n",
    "    \n",
    "    clf.fit(X_train, y_train)\n",
    "    y_pred = clf.predict(X_test)\n",
    "    print(\"Accuracy:\\t\",metrics.accuracy_score(y_test, y_pred))\n",
    "    print(\"Precision:\\t\",metrics.precision_score(y_test, y_pred, average='weighted'))\n",
    "    print(\"Recall:\\t\\t\",metrics.recall_score(y_test, y_pred, average='weighted'))\n",
    "    print(\"F1-score:\\t\",metrics.f1_score(y_test, y_pred, average='weighted'))\n",
    "    plt.rcParams['figure.dpi'] = 50\n",
    "    cm = metrics.confusion_matrix(y_test, y_pred)\n",
    "    cmdisp = metrics.ConfusionMatrixDisplay(confusion_matrix=cm, display_labels=clf.classes_)\n",
    "    cmdisp.plot()\n",
    "    plt.show()"
   ]
  },
  {
   "cell_type": "code",
   "execution_count": 17,
   "id": "922ceb2f",
   "metadata": {},
   "outputs": [
    {
     "name": "stderr",
     "output_type": "stream",
     "text": [
      "D:\\workspace\\FAA_proyecto\\env\\lib\\site-packages\\sklearn\\base.py:409: UserWarning: X does not have valid feature names, but RandomForestClassifier was fitted with feature names\n",
      "  warnings.warn(\n",
      "[Parallel(n_jobs=1)]: Using backend SequentialBackend with 1 concurrent workers.\n",
      "[Parallel(n_jobs=1)]: Done  10 out of  10 | elapsed:    0.0s finished\n"
     ]
    },
    {
     "data": {
      "text/plain": [
       "array(['banana'], dtype=object)"
      ]
     },
     "execution_count": 17,
     "metadata": {},
     "output_type": "execute_result"
    }
   ],
   "source": [
    "clf.predict([[12.8097,10.3655,10.4523,11.6734,13.4934,13.274,8.30527,9.04545,26.4241,59.4745,12.88422,12.8865,0.036958,10.424067,10.43245,0.02256,10.496109,10.50425,0.01669,11.723308,11.7306,0.019421,13.541656,13.5537,0.022596,13.373225,13.37765,0.040342,8.312446,8.313145,0.00318,9.055189,9.055575,0.005092,26.455474,26.45905,0.053763,58.969056,58.95435,0.255458]])"
   ]
  },
  {
   "cell_type": "markdown",
   "id": "a59cfb38",
   "metadata": {},
   "source": [
    "Probamos con una muestra creada de cero con datos de background"
   ]
  },
  {
   "cell_type": "code",
   "execution_count": 49,
   "id": "41736e46",
   "metadata": {
    "scrolled": true
   },
   "outputs": [
    {
     "name": "stdout",
     "output_type": "stream",
     "text": [
      "0 banana .... OK\n"
     ]
    }
   ],
   "source": [
    "OLD_F_METADATA = \"./data/HT_Sensor_metadata.dat\"\n",
    "F_METADATA = \"./data/HT_Sensor_metadata_new.dat\"\n",
    "OLD_F_DATASET = \"./data/HT_Sensor_dataset.dat\"\n",
    "F_DATASET = \"./data/HT_Sensor_dataset_new.dat\"\n",
    "F_TEST_DATASET = \"./data/filas_test.dat\"\n",
    "\n",
    "FEATURES_ORIGINAL = ['R1', 'R2', 'R3', 'R4', 'R5', 'R6', 'R7', 'R8', 'Temp.', 'Humidity']\n",
    "FEATURES = [\n",
    "  'R1', 'R1_mean', 'R1_median', 'R1_dev',\n",
    "  'R2', 'R2_mean', 'R2_median', 'R2_dev',\n",
    "  'R3', 'R3_mean', 'R3_median', 'R3_dev',\n",
    "  'R4', 'R4_mean', 'R4_median', 'R4_dev',\n",
    "  'R5', 'R5_mean', 'R5_median', 'R5_dev',\n",
    "  'R6', 'R6_mean', 'R6_median', 'R6_dev',\n",
    "  'R7', 'R7_mean', 'R7_median', 'R7_dev',\n",
    "  'R8', 'R8_mean', 'R8_median', 'R8_dev',\n",
    "  'Temp.', 'Temp._mean', 'Temp._median', 'Temp._dev',\n",
    "  'Humidity', 'Hum_mean', 'Hum_median', 'Hum_dev'\n",
    "]\n",
    "\n",
    "time_window = 5\n",
    "md = pd.read_csv(F_METADATA, sep=\",\")\n",
    "d = pd.read_csv(F_DATASET, sep=\",\")\n",
    "d.set_index(np.arange(d.shape[0]), inplace=True)\n",
    "\n",
    "with open(F_TEST_DATASET, 'w') as f:\n",
    "    # Headers\n",
    "    f.write(','.join(FEATURES) + '\\n')\n",
    "\n",
    "    \"\"\"\n",
    "    1. Por cada serie (misma ID) en HT_Sensor_dataset_new.dat\n",
    "      2. Calcular media, mediana y desv. de cada sensor, temperatura y humedad en base a los ultimos 5 minutos\n",
    "      3. Añadir la nueva entrada a Final_dataset.dat\n",
    "    \"\"\"\n",
    "    for i, md_row in md.iterrows():\n",
    "        ide = md_row['id']\n",
    "        if ide > 0:\n",
    "            break\n",
    "        clase = md_row['class']\n",
    "        print(f'{ide} {clase} .... ', end='')\n",
    "\n",
    "        for j, d_row in d.iterrows():\n",
    "            # Si no son la misma serie, pasamos al siguiente\n",
    "            if md_row['id'] != d_row['id']: continue\n",
    "\n",
    "            # Ignorar la ventana\n",
    "            if d_row['time'] >= 0 and d_row['time'] <= md_row['dt']: continue\n",
    "\n",
    "            search_to = d_row['time']*60            # Muestra actual a minutos\n",
    "            search_from = search_to - time_window   # Ventana de 5 minutos desde la que empezar a buscar\n",
    "\n",
    "            # Debe estar dentro de la ventana de tiempo y tener el mismo ID.\n",
    "            window = d[(d['time']*60 >= search_from) & (d['time']*60 < search_to) & (d['id'] == md_row['id'])]\n",
    "            if window.empty: continue\n",
    "\n",
    "            for f_o in FEATURES_ORIGINAL:\n",
    "                # 1. Calcular medias, medianas y desviaciones de los atributos del df 'window'\n",
    "                mean = window[f_o].mean()\n",
    "                median = window[f_o].median()\n",
    "                dev = window[f_o].std(ddof=0)\n",
    "                d_row[f'{f_o}_mean'] = mean\n",
    "                d_row[f'{f_o}_median'] = median\n",
    "                d_row[f'{f_o}_dev'] = dev\n",
    "\n",
    "            # 2. Esos nuevos valores obtenidos, meterlos a la entrada 'd_row' y guardarla: f.write(new_row)\n",
    "            x = d_row[2:].to_string(index=False).split('\\n')\n",
    "            new_row = [','.join(ele.split()) for ele in x]\n",
    "            f.write(','.join(new_row) + '\\n')\n",
    "            \n",
    "        print('OK')"
   ]
  },
  {
   "cell_type": "code",
   "execution_count": 50,
   "id": "c6ad4b95",
   "metadata": {},
   "outputs": [
    {
     "data": {
      "text/html": [
       "<div>\n",
       "<style scoped>\n",
       "    .dataframe tbody tr th:only-of-type {\n",
       "        vertical-align: middle;\n",
       "    }\n",
       "\n",
       "    .dataframe tbody tr th {\n",
       "        vertical-align: top;\n",
       "    }\n",
       "\n",
       "    .dataframe thead th {\n",
       "        text-align: right;\n",
       "    }\n",
       "</style>\n",
       "<table border=\"1\" class=\"dataframe\">\n",
       "  <thead>\n",
       "    <tr style=\"text-align: right;\">\n",
       "      <th></th>\n",
       "      <th>R1</th>\n",
       "      <th>R1_mean</th>\n",
       "      <th>R1_median</th>\n",
       "      <th>R1_dev</th>\n",
       "      <th>R2</th>\n",
       "      <th>R2_mean</th>\n",
       "      <th>R2_median</th>\n",
       "      <th>R2_dev</th>\n",
       "      <th>R3</th>\n",
       "      <th>R3_mean</th>\n",
       "      <th>...</th>\n",
       "      <th>R8_dev</th>\n",
       "      <th>Temp.</th>\n",
       "      <th>Temp._mean</th>\n",
       "      <th>Temp._median</th>\n",
       "      <th>Temp._dev</th>\n",
       "      <th>Humidity</th>\n",
       "      <th>Hum_mean</th>\n",
       "      <th>Hum_median</th>\n",
       "      <th>Hum_dev</th>\n",
       "      <th>class</th>\n",
       "    </tr>\n",
       "  </thead>\n",
       "  <tbody>\n",
       "    <tr>\n",
       "      <th>0</th>\n",
       "      <td>12.8617</td>\n",
       "      <td>10.3682</td>\n",
       "      <td>10.4375</td>\n",
       "      <td>11.6697</td>\n",
       "      <td>13.4927</td>\n",
       "      <td>13.3412</td>\n",
       "      <td>8.04133</td>\n",
       "      <td>8.73908</td>\n",
       "      <td>26.2308</td>\n",
       "      <td>59.0299</td>\n",
       "      <td>...</td>\n",
       "      <td>8.739010</td>\n",
       "      <td>8.739010</td>\n",
       "      <td>0.000000</td>\n",
       "      <td>26.22570</td>\n",
       "      <td>26.22570</td>\n",
       "      <td>0.000000</td>\n",
       "      <td>59.052800</td>\n",
       "      <td>59.05280</td>\n",
       "      <td>0.000000</td>\n",
       "      <td>background</td>\n",
       "    </tr>\n",
       "    <tr>\n",
       "      <th>1</th>\n",
       "      <td>12.8607</td>\n",
       "      <td>10.3686</td>\n",
       "      <td>10.4370</td>\n",
       "      <td>11.6696</td>\n",
       "      <td>13.4924</td>\n",
       "      <td>13.3405</td>\n",
       "      <td>8.04101</td>\n",
       "      <td>8.73915</td>\n",
       "      <td>26.2365</td>\n",
       "      <td>59.0093</td>\n",
       "      <td>...</td>\n",
       "      <td>8.739045</td>\n",
       "      <td>8.739045</td>\n",
       "      <td>0.000035</td>\n",
       "      <td>26.22825</td>\n",
       "      <td>26.22825</td>\n",
       "      <td>0.002550</td>\n",
       "      <td>59.041350</td>\n",
       "      <td>59.04135</td>\n",
       "      <td>0.011450</td>\n",
       "      <td>background</td>\n",
       "    </tr>\n",
       "    <tr>\n",
       "      <th>2</th>\n",
       "      <td>12.8602</td>\n",
       "      <td>10.3686</td>\n",
       "      <td>10.4370</td>\n",
       "      <td>11.6697</td>\n",
       "      <td>13.4921</td>\n",
       "      <td>13.3398</td>\n",
       "      <td>8.04086</td>\n",
       "      <td>8.73936</td>\n",
       "      <td>26.2416</td>\n",
       "      <td>58.9905</td>\n",
       "      <td>...</td>\n",
       "      <td>8.739080</td>\n",
       "      <td>8.739080</td>\n",
       "      <td>0.000057</td>\n",
       "      <td>26.23100</td>\n",
       "      <td>26.23080</td>\n",
       "      <td>0.004411</td>\n",
       "      <td>59.030667</td>\n",
       "      <td>59.02990</td>\n",
       "      <td>0.017767</td>\n",
       "      <td>background</td>\n",
       "    </tr>\n",
       "    <tr>\n",
       "      <th>3</th>\n",
       "      <td>12.8595</td>\n",
       "      <td>10.3688</td>\n",
       "      <td>10.4374</td>\n",
       "      <td>11.6699</td>\n",
       "      <td>13.4919</td>\n",
       "      <td>13.3390</td>\n",
       "      <td>8.04087</td>\n",
       "      <td>8.73986</td>\n",
       "      <td>26.2462</td>\n",
       "      <td>58.9736</td>\n",
       "      <td>...</td>\n",
       "      <td>8.739150</td>\n",
       "      <td>8.739115</td>\n",
       "      <td>0.000131</td>\n",
       "      <td>26.23365</td>\n",
       "      <td>26.23365</td>\n",
       "      <td>0.005972</td>\n",
       "      <td>59.020625</td>\n",
       "      <td>59.01960</td>\n",
       "      <td>0.023222</td>\n",
       "      <td>background</td>\n",
       "    </tr>\n",
       "    <tr>\n",
       "      <th>4</th>\n",
       "      <td>12.8594</td>\n",
       "      <td>10.3691</td>\n",
       "      <td>10.4376</td>\n",
       "      <td>11.6702</td>\n",
       "      <td>13.4921</td>\n",
       "      <td>13.3382</td>\n",
       "      <td>8.04088</td>\n",
       "      <td>8.74016</td>\n",
       "      <td>26.2503</td>\n",
       "      <td>58.9583</td>\n",
       "      <td>...</td>\n",
       "      <td>8.739292</td>\n",
       "      <td>8.739150</td>\n",
       "      <td>0.000307</td>\n",
       "      <td>26.23616</td>\n",
       "      <td>26.23650</td>\n",
       "      <td>0.007330</td>\n",
       "      <td>59.011220</td>\n",
       "      <td>59.00930</td>\n",
       "      <td>0.028022</td>\n",
       "      <td>background</td>\n",
       "    </tr>\n",
       "  </tbody>\n",
       "</table>\n",
       "<p>5 rows × 41 columns</p>\n",
       "</div>"
      ],
      "text/plain": [
       "        R1  R1_mean  R1_median   R1_dev       R2  R2_mean  R2_median   R2_dev  \\\n",
       "0  12.8617  10.3682    10.4375  11.6697  13.4927  13.3412    8.04133  8.73908   \n",
       "1  12.8607  10.3686    10.4370  11.6696  13.4924  13.3405    8.04101  8.73915   \n",
       "2  12.8602  10.3686    10.4370  11.6697  13.4921  13.3398    8.04086  8.73936   \n",
       "3  12.8595  10.3688    10.4374  11.6699  13.4919  13.3390    8.04087  8.73986   \n",
       "4  12.8594  10.3691    10.4376  11.6702  13.4921  13.3382    8.04088  8.74016   \n",
       "\n",
       "        R3  R3_mean  ...    R8_dev     Temp.  Temp._mean  Temp._median  \\\n",
       "0  26.2308  59.0299  ...  8.739010  8.739010    0.000000      26.22570   \n",
       "1  26.2365  59.0093  ...  8.739045  8.739045    0.000035      26.22825   \n",
       "2  26.2416  58.9905  ...  8.739080  8.739080    0.000057      26.23100   \n",
       "3  26.2462  58.9736  ...  8.739150  8.739115    0.000131      26.23365   \n",
       "4  26.2503  58.9583  ...  8.739292  8.739150    0.000307      26.23616   \n",
       "\n",
       "   Temp._dev  Humidity   Hum_mean  Hum_median   Hum_dev       class  \n",
       "0   26.22570  0.000000  59.052800    59.05280  0.000000  background  \n",
       "1   26.22825  0.002550  59.041350    59.04135  0.011450  background  \n",
       "2   26.23080  0.004411  59.030667    59.02990  0.017767  background  \n",
       "3   26.23365  0.005972  59.020625    59.01960  0.023222  background  \n",
       "4   26.23650  0.007330  59.011220    59.00930  0.028022  background  \n",
       "\n",
       "[5 rows x 41 columns]"
      ]
     },
     "execution_count": 50,
     "metadata": {},
     "output_type": "execute_result"
    }
   ],
   "source": [
    "dtest = pd.read_csv(F_TEST_DATASET, sep=\",\")\n",
    "dtest['class']  = 'background'\n",
    "dtest.head()"
   ]
  },
  {
   "cell_type": "code",
   "execution_count": 51,
   "id": "ed85b1a3",
   "metadata": {},
   "outputs": [
    {
     "name": "stdout",
     "output_type": "stream",
     "text": [
      "(6972,) (6972, 40)\n",
      "0    background\n",
      "1    background\n",
      "2    background\n",
      "3    background\n",
      "4    background\n",
      "5    background\n",
      "Name: class, dtype: object\n",
      "['banana' 'banana' 'banana' 'banana' 'banana' 'banana']\n",
      "Accuracy: 0.006597819850831899\n",
      "F1-score: 0.013109147905386151\n"
     ]
    },
    {
     "name": "stderr",
     "output_type": "stream",
     "text": [
      "[Parallel(n_jobs=1)]: Using backend SequentialBackend with 1 concurrent workers.\n",
      "[Parallel(n_jobs=1)]: Done  10 out of  10 | elapsed:    0.0s finished\n"
     ]
    },
    {
     "data": {
      "image/png": "[encoded data removed]",
      "text/plain": [
       "<Figure size 448x336 with 2 Axes>"
      ]
     },
     "metadata": {},
     "output_type": "display_data"
    }
   ],
   "source": [
    "y_test=dtest['class']\n",
    "X_test = dtest[FEATURES]\n",
    "print(y_test.shape, X_test.shape)\n",
    "y_pred = clf.predict(X_test)\n",
    "\n",
    "print(y_test[:6])\n",
    "print(y_pred[:6])\n",
    "\n",
    "print_metrics(y_test, y_pred)"
   ]
  },
  {
   "cell_type": "code",
   "execution_count": null,
   "id": "bf4c7770",
   "metadata": {},
   "outputs": [],
   "source": []
  },
  {
   "cell_type": "code",
   "execution_count": null,
   "id": "458b57a5",
   "metadata": {},
   "outputs": [],
   "source": []
  },
  {
   "cell_type": "code",
   "execution_count": null,
   "id": "c10d7ef2",
   "metadata": {},
   "outputs": [],
   "source": []
  },
  {
   "cell_type": "code",
   "execution_count": null,
   "id": "dcd72787",
   "metadata": {},
   "outputs": [],
   "source": []
  }
 ],
 "metadata": {
  "kernelspec": {
   "display_name": "Python 3 (ipykernel)",
   "language": "python",
   "name": "python3"
  },
  "language_info": {
   "codemirror_mode": {
    "name": "ipython",
    "version": 3
   },
   "file_extension": ".py",
   "mimetype": "text/x-python",
   "name": "python",
   "nbconvert_exporter": "python",
   "pygments_lexer": "ipython3",
   "version": "3.10.4"
  }
 },
 "nbformat": 4,
 "nbformat_minor": 5
}
