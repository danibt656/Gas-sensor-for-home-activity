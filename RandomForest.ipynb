{
 "cells": [
  {
   "cell_type": "markdown",
   "id": "534a5ef4",
   "metadata": {},
   "source": [
    "# Random Forest classifier"
   ]
  },
  {
   "cell_type": "code",
   "execution_count": 36,
   "id": "6bbb5f7b",
   "metadata": {},
   "outputs": [],
   "source": [
    "import numpy as np\n",
    "import matplotlib.pyplot as plt\n",
    "import matplotlib\n",
    "matplotlib.style.use('seaborn-v0_8-colorblind')\n",
    "import pandas as pd\n",
    "\n",
    "from sklearn.ensemble import RandomForestClassifier\n",
    "from sklearn.model_selection import train_test_split\n",
    "from sklearn import metrics\n",
    "from sklearn.model_selection import StratifiedKFold\n",
    "from sklearn.metrics import roc_curve, auc\n",
    "\n",
    "from src.utils.ds_formatter import format_all\n",
    "from src.dataset import *\n",
    "OLD_F_METADATA = \"./data/HT_Sensor_metadata.dat\"\n",
    "F_METADATA = \"./data/HT_Sensor_metadata_new.dat\"\n",
    "OLD_F_DATASET = \"./data/HT_Sensor_dataset.dat\"\n",
    "F_DATASET = \"./data/HT_Sensor_dataset_new.dat\"\n",
    "\n",
    "FEATURES = [\n",
    "  'R1', 'R1_mean', 'R1_dev',\n",
    "  'R2', 'R2_mean', 'R2_dev',\n",
    "  'R3', 'R3_mean', 'R3_dev',\n",
    "  'R4', 'R4_mean', 'R4_dev',\n",
    "  'R5', 'R5_mean', 'R5_dev',\n",
    "  'R6', 'R6_mean', 'R6_dev',\n",
    "  'R7', 'R7_mean', 'R7_dev',\n",
    "  'R8', 'R8_mean', 'R8_dev',\n",
    "#   'Temp.', 'Temp._mean', 'Temp._dev',\n",
    "#   'Humidity', 'Humidity_mean', 'Humidity_dev',\n",
    "]\n"
   ]
  },
  {
   "cell_type": "code",
   "execution_count": 37,
   "id": "b6b821e1",
   "metadata": {
    "scrolled": true
   },
   "outputs": [
    {
     "data": {
      "text/plain": [
       "(367259, 31)"
      ]
     },
     "execution_count": 37,
     "metadata": {},
     "output_type": "execute_result"
    }
   ],
   "source": [
    "df = get_dataset(build_dataset=False)\n",
    "df.shape"
   ]
  },
  {
   "cell_type": "code",
   "execution_count": 38,
   "id": "07de6f95",
   "metadata": {},
   "outputs": [
    {
     "name": "stdout",
     "output_type": "stream",
     "text": [
      "(257081, 24) (257081,) (110178, 24) (110178,)\n"
     ]
    }
   ],
   "source": [
    "X=df[FEATURES]\n",
    "y=df['class']\n",
    "\n",
    "X_train, X_test, y_train, y_test = train_test_split(X, y, test_size=0.3)\n",
    "print(f'{X_train.shape} {y_train.shape} {X_test.shape} {y_test.shape}')"
   ]
  },
  {
   "cell_type": "code",
   "execution_count": 39,
   "id": "354cf4eb",
   "metadata": {},
   "outputs": [],
   "source": [
    "from sklearn.ensemble import RandomForestClassifier\n",
    "\n",
    "clf=RandomForestClassifier(n_estimators=10, bootstrap=True, verbose=1)"
   ]
  },
  {
   "cell_type": "code",
   "execution_count": 40,
   "id": "f29be657",
   "metadata": {},
   "outputs": [
    {
     "name": "stderr",
     "output_type": "stream",
     "text": [
      "[Parallel(n_jobs=1)]: Using backend SequentialBackend with 1 concurrent workers.\n",
      "[Parallel(n_jobs=1)]: Done  10 out of  10 | elapsed:   13.5s finished\n"
     ]
    },
    {
     "data": {
      "text/html": [
       "<style>#sk-container-id-3 {color: black;background-color: white;}#sk-container-id-3 pre{padding: 0;}#sk-container-id-3 div.sk-toggleable {background-color: white;}#sk-container-id-3 label.sk-toggleable__label {cursor: pointer;display: block;width: 100%;margin-bottom: 0;padding: 0.3em;box-sizing: border-box;text-align: center;}#sk-container-id-3 label.sk-toggleable__label-arrow:before {content: \"▸\";float: left;margin-right: 0.25em;color: #696969;}#sk-container-id-3 label.sk-toggleable__label-arrow:hover:before {color: black;}#sk-container-id-3 div.sk-estimator:hover label.sk-toggleable__label-arrow:before {color: black;}#sk-container-id-3 div.sk-toggleable__content {max-height: 0;max-width: 0;overflow: hidden;text-align: left;background-color: #f0f8ff;}#sk-container-id-3 div.sk-toggleable__content pre {margin: 0.2em;color: black;border-radius: 0.25em;background-color: #f0f8ff;}#sk-container-id-3 input.sk-toggleable__control:checked~div.sk-toggleable__content {max-height: 200px;max-width: 100%;overflow: auto;}#sk-container-id-3 input.sk-toggleable__control:checked~label.sk-toggleable__label-arrow:before {content: \"▾\";}#sk-container-id-3 div.sk-estimator input.sk-toggleable__control:checked~label.sk-toggleable__label {background-color: #d4ebff;}#sk-container-id-3 div.sk-label input.sk-toggleable__control:checked~label.sk-toggleable__label {background-color: #d4ebff;}#sk-container-id-3 input.sk-hidden--visually {border: 0;clip: rect(1px 1px 1px 1px);clip: rect(1px, 1px, 1px, 1px);height: 1px;margin: -1px;overflow: hidden;padding: 0;position: absolute;width: 1px;}#sk-container-id-3 div.sk-estimator {font-family: monospace;background-color: #f0f8ff;border: 1px dotted black;border-radius: 0.25em;box-sizing: border-box;margin-bottom: 0.5em;}#sk-container-id-3 div.sk-estimator:hover {background-color: #d4ebff;}#sk-container-id-3 div.sk-parallel-item::after {content: \"\";width: 100%;border-bottom: 1px solid gray;flex-grow: 1;}#sk-container-id-3 div.sk-label:hover label.sk-toggleable__label {background-color: #d4ebff;}#sk-container-id-3 div.sk-serial::before {content: \"\";position: absolute;border-left: 1px solid gray;box-sizing: border-box;top: 0;bottom: 0;left: 50%;z-index: 0;}#sk-container-id-3 div.sk-serial {display: flex;flex-direction: column;align-items: center;background-color: white;padding-right: 0.2em;padding-left: 0.2em;position: relative;}#sk-container-id-3 div.sk-item {position: relative;z-index: 1;}#sk-container-id-3 div.sk-parallel {display: flex;align-items: stretch;justify-content: center;background-color: white;position: relative;}#sk-container-id-3 div.sk-item::before, #sk-container-id-3 div.sk-parallel-item::before {content: \"\";position: absolute;border-left: 1px solid gray;box-sizing: border-box;top: 0;bottom: 0;left: 50%;z-index: -1;}#sk-container-id-3 div.sk-parallel-item {display: flex;flex-direction: column;z-index: 1;position: relative;background-color: white;}#sk-container-id-3 div.sk-parallel-item:first-child::after {align-self: flex-end;width: 50%;}#sk-container-id-3 div.sk-parallel-item:last-child::after {align-self: flex-start;width: 50%;}#sk-container-id-3 div.sk-parallel-item:only-child::after {width: 0;}#sk-container-id-3 div.sk-dashed-wrapped {border: 1px dashed gray;margin: 0 0.4em 0.5em 0.4em;box-sizing: border-box;padding-bottom: 0.4em;background-color: white;}#sk-container-id-3 div.sk-label label {font-family: monospace;font-weight: bold;display: inline-block;line-height: 1.2em;}#sk-container-id-3 div.sk-label-container {text-align: center;}#sk-container-id-3 div.sk-container {/* jupyter's `normalize.less` sets `[hidden] { display: none; }` but bootstrap.min.css set `[hidden] { display: none !important; }` so we also need the `!important` here to be able to override the default hidden behavior on the sphinx rendered scikit-learn.org. See: https://github.com/scikit-learn/scikit-learn/issues/21755 */display: inline-block !important;position: relative;}#sk-container-id-3 div.sk-text-repr-fallback {display: none;}</style><div id=\"sk-container-id-3\" class=\"sk-top-container\"><div class=\"sk-text-repr-fallback\"><pre>RandomForestClassifier(n_estimators=10, verbose=1)</pre><b>In a Jupyter environment, please rerun this cell to show the HTML representation or trust the notebook. <br />On GitHub, the HTML representation is unable to render, please try loading this page with nbviewer.org.</b></div><div class=\"sk-container\" hidden><div class=\"sk-item\"><div class=\"sk-estimator sk-toggleable\"><input class=\"sk-toggleable__control sk-hidden--visually\" id=\"sk-estimator-id-3\" type=\"checkbox\" checked><label for=\"sk-estimator-id-3\" class=\"sk-toggleable__label sk-toggleable__label-arrow\">RandomForestClassifier</label><div class=\"sk-toggleable__content\"><pre>RandomForestClassifier(n_estimators=10, verbose=1)</pre></div></div></div></div></div>"
      ],
      "text/plain": [
       "RandomForestClassifier(n_estimators=10, verbose=1)"
      ]
     },
     "execution_count": 40,
     "metadata": {},
     "output_type": "execute_result"
    }
   ],
   "source": [
    "clf.fit(X_train,y_train)"
   ]
  },
  {
   "cell_type": "code",
   "execution_count": 41,
   "id": "5fa561ee",
   "metadata": {},
   "outputs": [
    {
     "name": "stderr",
     "output_type": "stream",
     "text": [
      "[Parallel(n_jobs=1)]: Using backend SequentialBackend with 1 concurrent workers.\n",
      "[Parallel(n_jobs=1)]: Done  10 out of  10 | elapsed:    0.1s finished\n"
     ]
    }
   ],
   "source": [
    "y_pred=clf.predict(X_test)"
   ]
  },
  {
   "cell_type": "code",
   "execution_count": 46,
   "id": "ae9434dd",
   "metadata": {},
   "outputs": [],
   "source": [
    "def print_metrics(y_test, y_pred):\n",
    "    print(\"Accuracy:\",metrics.accuracy_score(y_test, y_pred))\n",
    "    print(\"Precision:\",metrics.precision_score(y_test, y_pred, average='weighted'))\n",
    "    print(\"F1-score:\",metrics.f1_score(y_test, y_pred, average='weighted'))\n",
    "    plt.rcParams['figure.dpi'] = 70\n",
    "    cm = metrics.confusion_matrix(y_test, y_pred)\n",
    "    cmdisp = metrics.ConfusionMatrixDisplay(confusion_matrix=cm, display_labels=clf.classes_)\n",
    "    cmdisp.plot()\n",
    "    plt.show()"
   ]
  },
  {
   "cell_type": "code",
   "execution_count": 47,
   "id": "59f2b7ab",
   "metadata": {},
   "outputs": [
    {
     "name": "stdout",
     "output_type": "stream",
     "text": [
      "Accuracy: 0.9994191217847483\n",
      "Precision: 0.9994191455702796\n",
      "F1-score: 0.9994191204390712\n"
     ]
    },
    {
     "data": {
      "image/png": "[encoded data removed]",
      "text/plain": [
       "<Figure size 448x336 with 2 Axes>"
      ]
     },
     "metadata": {},
     "output_type": "display_data"
    }
   ],
   "source": [
    "print_metrics(y_test, y_pred)"
   ]
  },
  {
   "cell_type": "code",
   "execution_count": null,
   "id": "4d776604",
   "metadata": {},
   "outputs": [],
   "source": [
    "feature_imp = pd.Series(clf.feature_importances_,index=FEATURES).sort_values(ascending=False)\n",
    "import seaborn as sns\n",
    "fig, ax = plt.subplots(figsize=(24, 25))\n",
    "# Creating a bar plot\n",
    "sns.barplot(x=feature_imp, y=feature_imp.index, ax=ax)\n",
    "# Add labels to your graph\n",
    "plt.xlabel('Feature Importance Score')\n",
    "plt.ylabel('Features')\n",
    "plt.title(\"Visualizing Important Features\")\n",
    "plt.legend()\n",
    "plt.show()"
   ]
  },
  {
   "cell_type": "markdown",
   "id": "2617758d",
   "metadata": {},
   "source": [
    "Ahora vamos a probar con K-Fold Cross-Validation:"
   ]
  },
  {
   "cell_type": "code",
   "execution_count": 15,
   "id": "bc9fbf64",
   "metadata": {},
   "outputs": [],
   "source": [
    "def plot_roc_curve(fprs, tprs):\n",
    "    \"\"\"Plot the Receiver Operating Characteristic from a list\n",
    "    of true positive rates and false positive rates.\"\"\"\n",
    "    \n",
    "    # Initialize useful lists + the plot axes.\n",
    "    tprs_interp = []\n",
    "    aucs = []\n",
    "    mean_fpr = np.linspace(0, 1, 100)\n",
    "    f, ax = plt.subplots(figsize=(14,10))\n",
    "    \n",
    "    # Plot ROC for each K-Fold + compute AUC scores.\n",
    "    for i, (fpr, tpr) in enumerate(zip(fprs, tprs)):\n",
    "        tprs_interp.append(np.interp(mean_fpr, fpr, tpr))\n",
    "        tprs_interp[-1][0] = 0.0\n",
    "        roc_auc = auc(fpr, tpr)\n",
    "        aucs.append(roc_auc)\n",
    "        ax.plot(fpr, tpr, lw=1, alpha=0.3,\n",
    "                 label='ROC fold %d (AUC = %0.2f)' % (i, roc_auc))\n",
    "        \n",
    "    # Plot the luck line.\n",
    "    plt.plot([0, 1], [0, 1], linestyle='--', lw=2, color='r',\n",
    "             label='Luck', alpha=.8)\n",
    "    \n",
    "    # Plot the mean ROC.\n",
    "    mean_tpr = np.mean(tprs_interp, axis=0)\n",
    "    mean_tpr[-1] = 1.0\n",
    "    mean_auc = auc(mean_fpr, mean_tpr)\n",
    "    std_auc = np.std(aucs)\n",
    "    ax.plot(mean_fpr, mean_tpr, color='b',\n",
    "             label=r'Mean ROC (AUC = %0.2f $\\pm$ %0.2f)' % (mean_auc, std_auc),\n",
    "             lw=2, alpha=.8)\n",
    "    \n",
    "    # Plot the standard deviation around the mean ROC.\n",
    "    std_tpr = np.std(tprs_interp, axis=0)\n",
    "    tprs_upper = np.minimum(mean_tpr + std_tpr, 1)\n",
    "    tprs_lower = np.maximum(mean_tpr - std_tpr, 0)\n",
    "    ax.fill_between(mean_fpr, tprs_lower, tprs_upper, color='grey', alpha=.2,\n",
    "                     label=r'$\\pm$ 1 std. dev.')\n",
    "    \n",
    "    # Fine tune and show the plot.\n",
    "    ax.set_xlim([-0.05, 1.05])\n",
    "    ax.set_ylim([-0.05, 1.05])\n",
    "    ax.set_xlabel('False Positive Rate')\n",
    "    ax.set_ylabel('True Positive Rate')\n",
    "    ax.set_title('Receiver operating characteristic')\n",
    "    ax.legend(loc=\"lower right\")\n",
    "    plt.show()\n",
    "    return (f, ax)\n",
    "\n",
    "def compute_roc_auc(index):\n",
    "    y_predict = clf.predict_proba(X.iloc[index])[:,1]\n",
    "    fpr, tpr, thresholds = roc_curve(y.iloc[index], y_predict)\n",
    "    auc_score = auc(fpr, tpr)\n",
    "    return fpr, tpr, auc_score"
   ]
  },
  {
   "cell_type": "code",
   "execution_count": 21,
   "id": "a92bf2ac",
   "metadata": {},
   "outputs": [
    {
     "name": "stdout",
     "output_type": "stream",
     "text": [
      "FOLD nº0\n"
     ]
    },
    {
     "name": "stderr",
     "output_type": "stream",
     "text": [
      "[Parallel(n_jobs=1)]: Using backend SequentialBackend with 1 concurrent workers.\n",
      "[Parallel(n_jobs=1)]: Done  10 out of  10 | elapsed:   18.3s finished\n",
      "[Parallel(n_jobs=1)]: Using backend SequentialBackend with 1 concurrent workers.\n",
      "[Parallel(n_jobs=1)]: Done  10 out of  10 | elapsed:    0.0s finished\n"
     ]
    },
    {
     "name": "stdout",
     "output_type": "stream",
     "text": [
      "Accuracy:\t 0.9995098840058814\n",
      "Precision:\t 0.9995099922964524\n",
      "Recall:\t\t 0.9995098840058814\n",
      "F1-score:\t 0.9995098867524874\n"
     ]
    },
    {
     "data": {
      "image/png": "[encoded data removed]",
      "text/plain": [
       "<Figure size 320x240 with 2 Axes>"
      ]
     },
     "metadata": {},
     "output_type": "display_data"
    },
    {
     "name": "stdout",
     "output_type": "stream",
     "text": [
      "FOLD nº1\n"
     ]
    },
    {
     "name": "stderr",
     "output_type": "stream",
     "text": [
      "[Parallel(n_jobs=1)]: Using backend SequentialBackend with 1 concurrent workers.\n",
      "[Parallel(n_jobs=1)]: Done  10 out of  10 | elapsed:   17.6s finished\n",
      "[Parallel(n_jobs=1)]: Using backend SequentialBackend with 1 concurrent workers.\n",
      "[Parallel(n_jobs=1)]: Done  10 out of  10 | elapsed:    0.0s finished\n"
     ]
    },
    {
     "name": "stdout",
     "output_type": "stream",
     "text": [
      "Accuracy:\t 0.9995915700049012\n",
      "Precision:\t 0.9995915687763587\n",
      "Recall:\t\t 0.9995915700049012\n",
      "F1-score:\t 0.9995915669055855\n"
     ]
    },
    {
     "data": {
      "image/png": "[encoded data removed]",
      "text/plain": [
       "<Figure size 320x240 with 2 Axes>"
      ]
     },
     "metadata": {},
     "output_type": "display_data"
    },
    {
     "name": "stdout",
     "output_type": "stream",
     "text": [
      "FOLD nº2\n"
     ]
    },
    {
     "name": "stderr",
     "output_type": "stream",
     "text": [
      "[Parallel(n_jobs=1)]: Using backend SequentialBackend with 1 concurrent workers.\n",
      "[Parallel(n_jobs=1)]: Done  10 out of  10 | elapsed:   17.8s finished\n",
      "[Parallel(n_jobs=1)]: Using backend SequentialBackend with 1 concurrent workers.\n",
      "[Parallel(n_jobs=1)]: Done  10 out of  10 | elapsed:    0.0s finished\n"
     ]
    },
    {
     "name": "stdout",
     "output_type": "stream",
     "text": [
      "Accuracy:\t 0.9995779556717312\n",
      "Precision:\t 0.9995780527815082\n",
      "Recall:\t\t 0.9995779556717312\n",
      "F1-score:\t 0.9995779640005501\n"
     ]
    },
    {
     "data": {
      "image/png": "[encoded data removed]",
      "text/plain": [
       "<Figure size 320x240 with 2 Axes>"
      ]
     },
     "metadata": {},
     "output_type": "display_data"
    },
    {
     "name": "stdout",
     "output_type": "stream",
     "text": [
      "FOLD nº3\n"
     ]
    },
    {
     "name": "stderr",
     "output_type": "stream",
     "text": [
      "[Parallel(n_jobs=1)]: Using backend SequentialBackend with 1 concurrent workers.\n",
      "[Parallel(n_jobs=1)]: Done  10 out of  10 | elapsed:   17.8s finished\n",
      "[Parallel(n_jobs=1)]: Using backend SequentialBackend with 1 concurrent workers.\n",
      "[Parallel(n_jobs=1)]: Done  10 out of  10 | elapsed:    0.0s finished\n"
     ]
    },
    {
     "name": "stdout",
     "output_type": "stream",
     "text": [
      "Accuracy:\t 0.9994826553395415\n",
      "Precision:\t 0.9994826961090864\n",
      "Recall:\t\t 0.9994826553395415\n",
      "F1-score:\t 0.9994826487153815\n"
     ]
    },
    {
     "data": {
      "image/png": "[encoded data removed]",
      "text/plain": [
       "<Figure size 320x240 with 2 Axes>"
      ]
     },
     "metadata": {},
     "output_type": "display_data"
    },
    {
     "name": "stdout",
     "output_type": "stream",
     "text": [
      "FOLD nº4\n"
     ]
    },
    {
     "name": "stderr",
     "output_type": "stream",
     "text": [
      "[Parallel(n_jobs=1)]: Using backend SequentialBackend with 1 concurrent workers.\n",
      "[Parallel(n_jobs=1)]: Done  10 out of  10 | elapsed:   17.6s finished\n",
      "[Parallel(n_jobs=1)]: Using backend SequentialBackend with 1 concurrent workers.\n",
      "[Parallel(n_jobs=1)]: Done  10 out of  10 | elapsed:    0.0s finished\n"
     ]
    },
    {
     "name": "stdout",
     "output_type": "stream",
     "text": [
      "Accuracy:\t 0.9996187934813685\n",
      "Precision:\t 0.999618832207124\n",
      "Recall:\t\t 0.9996187934813685\n",
      "F1-score:\t 0.999618773043636\n"
     ]
    },
    {
     "data": {
      "image/png": "[encoded data removed]",
      "text/plain": [
       "<Figure size 320x240 with 2 Axes>"
      ]
     },
     "metadata": {},
     "output_type": "display_data"
    }
   ],
   "source": [
    "KFOLDS = 5\n",
    "cv = StratifiedKFold(n_splits=KFOLDS, shuffle=True)\n",
    "\n",
    "results = pd.DataFrame(columns=['training_score', 'test_score'])\n",
    "fprs, tprs, scores = [], [], []\n",
    "\n",
    "X=df[FEATURES]\n",
    "y=df['class']\n",
    "\n",
    "for (train, test), i in zip(cv.split(X, y), range(KFOLDS)):\n",
    "    print(f'FOLD nº{i}')\n",
    "    X_train, X_test, y_train, y_test = X.iloc[train], X.iloc[test], y.iloc[train], y.iloc[test]\n",
    "    \n",
    "    clf.fit(X_train, y_train)\n",
    "    y_pred = clf.predict(X_test)\n",
    "    print(\"Accuracy:\\t\",metrics.accuracy_score(y_test, y_pred))\n",
    "    print(\"Precision:\\t\",metrics.precision_score(y_test, y_pred, average='weighted'))\n",
    "    print(\"Recall:\\t\\t\",metrics.recall_score(y_test, y_pred, average='weighted'))\n",
    "    print(\"F1-score:\\t\",metrics.f1_score(y_test, y_pred, average='weighted'))\n",
    "    plt.rcParams['figure.dpi'] = 50\n",
    "    cm = metrics.confusion_matrix(y_test, y_pred)\n",
    "    cmdisp = metrics.ConfusionMatrixDisplay(confusion_matrix=cm, display_labels=clf.classes_)\n",
    "    cmdisp.plot()\n",
    "    plt.show()"
   ]
  },
  {
   "cell_type": "markdown",
   "id": "a59cfb38",
   "metadata": {},
   "source": [
    "Probamos con una muestra creada de cero con datos de background"
   ]
  },
  {
   "cell_type": "code",
   "execution_count": 50,
   "id": "41736e46",
   "metadata": {
    "scrolled": true
   },
   "outputs": [
    {
     "name": "stdout",
     "output_type": "stream",
     "text": [
      "0 banana .... OK\n",
      "1 wine .... OK\n",
      "2 wine .... OK\n",
      "3 banana .... OK\n",
      "4 wine .... OK\n",
      "5 banana .... OK\n",
      "6 wine .... OK\n",
      "7 banana .... OK\n",
      "8 wine .... OK\n",
      "9 banana .... OK\n",
      "10 banana .... OK\n",
      "11 banana .... OK\n",
      "12 wine .... OK\n",
      "13 banana .... OK\n",
      "14 wine .... OK\n",
      "15 banana .... OK\n",
      "16 banana .... OK\n",
      "17 banana .... OK\n",
      "18 banana .... OK\n",
      "19 wine .... OK\n",
      "20 wine .... OK\n",
      "21 banana .... OK\n",
      "22 banana .... OK\n",
      "23 wine .... OK\n",
      "24 wine .... OK\n",
      "25 wine .... OK\n",
      "26 wine .... OK\n",
      "27 banana .... OK\n",
      "28 wine .... OK\n",
      "29 wine .... OK\n",
      "30 banana .... OK\n",
      "31 wine .... OK\n",
      "32 wine .... OK\n",
      "33 banana .... OK\n",
      "34 banana .... OK\n",
      "35 banana .... OK\n",
      "36 wine .... OK\n",
      "37 wine .... OK\n",
      "38 wine .... OK\n",
      "39 banana .... OK\n",
      "40 banana .... OK\n",
      "41 wine .... OK\n",
      "42 wine .... OK\n",
      "43 banana .... OK\n",
      "44 wine .... OK\n",
      "45 wine .... OK\n",
      "46 wine .... OK\n",
      "47 banana .... OK\n",
      "48 banana .... OK\n",
      "49 wine .... OK\n",
      "50 wine .... OK\n",
      "51 banana .... OK\n",
      "52 banana .... OK\n",
      "53 wine .... OK\n",
      "54 wine .... OK\n",
      "55 banana .... OK\n",
      "56 wine .... OK\n",
      "57 banana .... OK\n",
      "58 wine .... OK\n",
      "59 banana .... OK\n",
      "60 banana .... OK\n",
      "61 wine .... OK\n",
      "62 banana .... OK\n",
      "63 banana .... OK\n",
      "64 wine .... OK\n",
      "65 banana .... OK\n",
      "66 wine .... OK\n",
      "67 wine .... OK\n",
      "68 wine .... OK\n",
      "69 background .... OK\n",
      "70 background .... OK\n",
      "71 background .... OK\n",
      "72 background .... OK\n",
      "73 background .... OK\n",
      "74 background .... OK\n",
      "75 background .... OK\n",
      "76 background .... OK\n",
      "77 background .... OK\n",
      "78 background .... OK\n",
      "79 background .... OK\n",
      "80 background .... OK\n",
      "81 background .... OK\n",
      "82 background .... OK\n",
      "83 background .... OK\n",
      "84 background .... OK\n",
      "85 background .... OK\n",
      "86 background .... OK\n",
      "87 background .... OK\n",
      "88 background .... OK\n",
      "89 background .... OK\n",
      "90 background .... OK\n",
      "91 background .... OK\n",
      "92 background .... OK\n",
      "93 background .... OK\n",
      "94 background .... OK\n",
      "95 background .... OK\n",
      "96 background .... OK\n",
      "97 background .... OK\n",
      "98 background .... OK\n",
      "99 background .... OK\n"
     ]
    }
   ],
   "source": [
    "OLD_F_METADATA = \"./data/HT_Sensor_metadata.dat\"\n",
    "F_METADATA = \"./data/HT_Sensor_metadata_new.dat\"\n",
    "OLD_F_DATASET = \"./data/HT_Sensor_dataset.dat\"\n",
    "F_DATASET = \"./data/HT_Sensor_dataset_new.dat\"\n",
    "F_TEST_DATASET = \"./data/filas_test.dat\"\n",
    "\n",
    "FEATURES_ORIGINAL = ['R1', 'R2', 'R3', 'R4', 'R5', 'R6', 'R7', 'R8', 'Temp.', 'Humidity']\n",
    "FEATURES = [\n",
    "  'R1', 'R1_mean', 'R1_dev',\n",
    "  'R2', 'R2_mean', 'R2_dev',\n",
    "  'R3', 'R3_mean', 'R3_dev',\n",
    "  'R4', 'R4_mean', 'R4_dev',\n",
    "  'R5', 'R5_mean', 'R5_dev',\n",
    "  'R6', 'R6_mean', 'R6_dev',\n",
    "  'R7', 'R7_mean', 'R7_dev',\n",
    "  'R8', 'R8_mean', 'R8_dev',\n",
    "]\n",
    "\n",
    "time_window = 5\n",
    "md = pd.read_csv(F_METADATA, sep=\",\")\n",
    "d = pd.read_csv(F_DATASET, sep=\",\")\n",
    "d.set_index(np.arange(d.shape[0]), inplace=True)\n",
    "\n",
    "with open(F_TEST_DATASET, 'w') as f:\n",
    "    # Headers\n",
    "    f.write(','.join(FEATURES) + '\\n')\n",
    "\n",
    "    \"\"\"\n",
    "    1. Por cada serie (misma ID) en HT_Sensor_dataset_new.dat\n",
    "      2. Calcular media, mediana y desv. de cada sensor, temperatura y humedad en base a los ultimos 5 minutos\n",
    "      3. Añadir la nueva entrada a Final_dataset.dat\n",
    "    \"\"\"\n",
    "    for i, md_row in md.iterrows():\n",
    "        ide = md_row['id']\n",
    "        clase = md_row['class']\n",
    "        print(f'{ide} {clase} .... ', end='')\n",
    "\n",
    "        for j, d_row in d.iterrows():\n",
    "            # Si no son la misma serie, pasamos al siguiente\n",
    "            if md_row['id'] != d_row['id']: continue\n",
    "\n",
    "            # Ignorar la ventana\n",
    "            if d_row['time'] >= 0 and d_row['time'] <= md_row['dt']: continue\n",
    "\n",
    "            search_to = d_row['time']*60            # Muestra actual a minutos\n",
    "            search_from = search_to - time_window   # Ventana de 5 minutos desde la que empezar a buscar\n",
    "\n",
    "            # Debe estar dentro de la ventana de tiempo y tener el mismo ID.\n",
    "            window = d[(d['time']*60 >= search_from) & (d['time']*60 < search_to) & (d['id'] == md_row['id'])]\n",
    "            if window.empty: continue\n",
    "\n",
    "            for f_o in FEATURES_ORIGINAL:\n",
    "                # 1. Calcular medias, medianas y desviaciones de los atributos del df 'window'\n",
    "                mean = window[f_o].mean()\n",
    "                median = window[f_o].median()\n",
    "                dev = window[f_o].std(ddof=0)\n",
    "                d_row[f'{f_o}_mean'] = mean\n",
    "                d_row[f'{f_o}_median'] = median\n",
    "                d_row[f'{f_o}_dev'] = dev\n",
    "\n",
    "            # 2. Esos nuevos valores obtenidos, meterlos a la entrada 'd_row' y guardarla: f.write(new_row)\n",
    "            x = d_row[2:].to_string(index=False).split('\\n')\n",
    "            new_row = [','.join(ele.split()) for ele in x]\n",
    "            f.write(','.join(new_row) + '\\n')\n",
    "        print('OK')"
   ]
  },
  {
   "cell_type": "code",
   "execution_count": 53,
   "id": "c6ad4b95",
   "metadata": {},
   "outputs": [
    {
     "data": {
      "text/html": [
       "<div>\n",
       "<style scoped>\n",
       "    .dataframe tbody tr th:only-of-type {\n",
       "        vertical-align: middle;\n",
       "    }\n",
       "\n",
       "    .dataframe tbody tr th {\n",
       "        vertical-align: top;\n",
       "    }\n",
       "\n",
       "    .dataframe thead th {\n",
       "        text-align: right;\n",
       "    }\n",
       "</style>\n",
       "<table border=\"1\" class=\"dataframe\">\n",
       "  <thead>\n",
       "    <tr style=\"text-align: right;\">\n",
       "      <th></th>\n",
       "      <th></th>\n",
       "      <th></th>\n",
       "      <th></th>\n",
       "      <th></th>\n",
       "      <th></th>\n",
       "      <th></th>\n",
       "      <th></th>\n",
       "      <th></th>\n",
       "      <th></th>\n",
       "      <th></th>\n",
       "      <th></th>\n",
       "      <th></th>\n",
       "      <th></th>\n",
       "      <th></th>\n",
       "      <th></th>\n",
       "      <th>R1</th>\n",
       "      <th>R1_mean</th>\n",
       "      <th>R1_dev</th>\n",
       "      <th>R2</th>\n",
       "      <th>R2_mean</th>\n",
       "      <th>R2_dev</th>\n",
       "      <th>R3</th>\n",
       "      <th>R3_mean</th>\n",
       "      <th>R3_dev</th>\n",
       "      <th>R4</th>\n",
       "      <th>...</th>\n",
       "      <th>R6</th>\n",
       "      <th>R6_mean</th>\n",
       "      <th>R6_dev</th>\n",
       "      <th>R7</th>\n",
       "      <th>R7_mean</th>\n",
       "      <th>R7_dev</th>\n",
       "      <th>R8</th>\n",
       "      <th>R8_mean</th>\n",
       "      <th>R8_dev</th>\n",
       "      <th>class</th>\n",
       "    </tr>\n",
       "  </thead>\n",
       "  <tbody>\n",
       "    <tr>\n",
       "      <th>12.8617</th>\n",
       "      <th>10.3682</th>\n",
       "      <th>10.4375</th>\n",
       "      <th>11.6697</th>\n",
       "      <th>13.4927</th>\n",
       "      <th>13.3412</th>\n",
       "      <th>8.04133</th>\n",
       "      <th>8.73908</th>\n",
       "      <th>26.2308</th>\n",
       "      <th>59.0299</th>\n",
       "      <th>12.862100</th>\n",
       "      <th>12.8621</th>\n",
       "      <th>0.000000</th>\n",
       "      <th>10.368300</th>\n",
       "      <th>10.36830</th>\n",
       "      <th>0.000000</th>\n",
       "      <td>10.43830</td>\n",
       "      <td>10.43830</td>\n",
       "      <td>0.000000</td>\n",
       "      <td>11.669900</td>\n",
       "      <td>11.6699</td>\n",
       "      <td>0.000000</td>\n",
       "      <td>13.493100</td>\n",
       "      <td>13.49310</td>\n",
       "      <td>0.000000</td>\n",
       "      <td>13.342300</td>\n",
       "      <td>...</td>\n",
       "      <td>8.739010</td>\n",
       "      <td>8.739010</td>\n",
       "      <td>0.000000</td>\n",
       "      <td>26.22570</td>\n",
       "      <td>26.22570</td>\n",
       "      <td>0.000000</td>\n",
       "      <td>59.052800</td>\n",
       "      <td>59.05280</td>\n",
       "      <td>0.000000</td>\n",
       "      <td>background</td>\n",
       "    </tr>\n",
       "    <tr>\n",
       "      <th>12.8607</th>\n",
       "      <th>10.3686</th>\n",
       "      <th>10.4370</th>\n",
       "      <th>11.6696</th>\n",
       "      <th>13.4924</th>\n",
       "      <th>13.3405</th>\n",
       "      <th>8.04101</th>\n",
       "      <th>8.73915</th>\n",
       "      <th>26.2365</th>\n",
       "      <th>59.0093</th>\n",
       "      <th>12.861900</th>\n",
       "      <th>12.8619</th>\n",
       "      <th>0.000200</th>\n",
       "      <th>10.368250</th>\n",
       "      <th>10.36825</th>\n",
       "      <th>0.000050</th>\n",
       "      <td>10.43790</td>\n",
       "      <td>10.43790</td>\n",
       "      <td>0.000400</td>\n",
       "      <td>11.669800</td>\n",
       "      <td>11.6698</td>\n",
       "      <td>0.000100</td>\n",
       "      <td>13.492900</td>\n",
       "      <td>13.49290</td>\n",
       "      <td>0.000200</td>\n",
       "      <td>13.341750</td>\n",
       "      <td>...</td>\n",
       "      <td>8.739045</td>\n",
       "      <td>8.739045</td>\n",
       "      <td>0.000035</td>\n",
       "      <td>26.22825</td>\n",
       "      <td>26.22825</td>\n",
       "      <td>0.002550</td>\n",
       "      <td>59.041350</td>\n",
       "      <td>59.04135</td>\n",
       "      <td>0.011450</td>\n",
       "      <td>background</td>\n",
       "    </tr>\n",
       "    <tr>\n",
       "      <th>12.8602</th>\n",
       "      <th>10.3686</th>\n",
       "      <th>10.4370</th>\n",
       "      <th>11.6697</th>\n",
       "      <th>13.4921</th>\n",
       "      <th>13.3398</th>\n",
       "      <th>8.04086</th>\n",
       "      <th>8.73936</th>\n",
       "      <th>26.2416</th>\n",
       "      <th>58.9905</th>\n",
       "      <th>12.861500</th>\n",
       "      <th>12.8617</th>\n",
       "      <th>0.000589</th>\n",
       "      <th>10.368367</th>\n",
       "      <th>10.36830</th>\n",
       "      <th>0.000170</th>\n",
       "      <td>10.43760</td>\n",
       "      <td>10.43750</td>\n",
       "      <td>0.000535</td>\n",
       "      <td>11.669733</td>\n",
       "      <td>11.6697</td>\n",
       "      <td>0.000125</td>\n",
       "      <td>13.492733</td>\n",
       "      <td>13.49270</td>\n",
       "      <td>0.000287</td>\n",
       "      <td>13.341333</td>\n",
       "      <td>...</td>\n",
       "      <td>8.739080</td>\n",
       "      <td>8.739080</td>\n",
       "      <td>0.000057</td>\n",
       "      <td>26.23100</td>\n",
       "      <td>26.23080</td>\n",
       "      <td>0.004411</td>\n",
       "      <td>59.030667</td>\n",
       "      <td>59.02990</td>\n",
       "      <td>0.017767</td>\n",
       "      <td>background</td>\n",
       "    </tr>\n",
       "    <tr>\n",
       "      <th>12.8595</th>\n",
       "      <th>10.3688</th>\n",
       "      <th>10.4374</th>\n",
       "      <th>11.6699</th>\n",
       "      <th>13.4919</th>\n",
       "      <th>13.3390</th>\n",
       "      <th>8.04087</th>\n",
       "      <th>8.73986</th>\n",
       "      <th>26.2462</th>\n",
       "      <th>58.9736</th>\n",
       "      <th>12.861175</th>\n",
       "      <th>12.8612</th>\n",
       "      <th>0.000760</th>\n",
       "      <th>10.368425</th>\n",
       "      <th>10.36845</th>\n",
       "      <th>0.000179</th>\n",
       "      <td>10.43745</td>\n",
       "      <td>10.43725</td>\n",
       "      <td>0.000532</td>\n",
       "      <td>11.669725</td>\n",
       "      <td>11.6697</td>\n",
       "      <td>0.000109</td>\n",
       "      <td>13.492575</td>\n",
       "      <td>13.49255</td>\n",
       "      <td>0.000370</td>\n",
       "      <td>13.340950</td>\n",
       "      <td>...</td>\n",
       "      <td>8.739150</td>\n",
       "      <td>8.739115</td>\n",
       "      <td>0.000131</td>\n",
       "      <td>26.23365</td>\n",
       "      <td>26.23365</td>\n",
       "      <td>0.005972</td>\n",
       "      <td>59.020625</td>\n",
       "      <td>59.01960</td>\n",
       "      <td>0.023222</td>\n",
       "      <td>background</td>\n",
       "    </tr>\n",
       "    <tr>\n",
       "      <th>12.8594</th>\n",
       "      <th>10.3691</th>\n",
       "      <th>10.4376</th>\n",
       "      <th>11.6702</th>\n",
       "      <th>13.4921</th>\n",
       "      <th>13.3382</th>\n",
       "      <th>8.04088</th>\n",
       "      <th>8.74016</th>\n",
       "      <th>26.2503</th>\n",
       "      <th>58.9583</th>\n",
       "      <th>12.860840</th>\n",
       "      <th>12.8607</th>\n",
       "      <th>0.000954</th>\n",
       "      <th>10.368500</th>\n",
       "      <th>10.36860</th>\n",
       "      <th>0.000219</th>\n",
       "      <td>10.43744</td>\n",
       "      <td>10.43740</td>\n",
       "      <td>0.000476</td>\n",
       "      <td>11.669760</td>\n",
       "      <td>11.6697</td>\n",
       "      <td>0.000120</td>\n",
       "      <td>13.492440</td>\n",
       "      <td>13.49240</td>\n",
       "      <td>0.000427</td>\n",
       "      <td>13.340560</td>\n",
       "      <td>...</td>\n",
       "      <td>8.739292</td>\n",
       "      <td>8.739150</td>\n",
       "      <td>0.000307</td>\n",
       "      <td>26.23616</td>\n",
       "      <td>26.23650</td>\n",
       "      <td>0.007330</td>\n",
       "      <td>59.011220</td>\n",
       "      <td>59.00930</td>\n",
       "      <td>0.028022</td>\n",
       "      <td>background</td>\n",
       "    </tr>\n",
       "  </tbody>\n",
       "</table>\n",
       "<p>5 rows × 25 columns</p>\n",
       "</div>"
      ],
      "text/plain": [
       "                                                                                                                                              R1  \\\n",
       "12.8617 10.3682 10.4375 11.6697 13.4927 13.3412 8.04133 8.73908 26.2308 59.0299 12.862100 12.8621 0.000000 10.368300 10.36830 0.000000  10.43830   \n",
       "12.8607 10.3686 10.4370 11.6696 13.4924 13.3405 8.04101 8.73915 26.2365 59.0093 12.861900 12.8619 0.000200 10.368250 10.36825 0.000050  10.43790   \n",
       "12.8602 10.3686 10.4370 11.6697 13.4921 13.3398 8.04086 8.73936 26.2416 58.9905 12.861500 12.8617 0.000589 10.368367 10.36830 0.000170  10.43760   \n",
       "12.8595 10.3688 10.4374 11.6699 13.4919 13.3390 8.04087 8.73986 26.2462 58.9736 12.861175 12.8612 0.000760 10.368425 10.36845 0.000179  10.43745   \n",
       "12.8594 10.3691 10.4376 11.6702 13.4921 13.3382 8.04088 8.74016 26.2503 58.9583 12.860840 12.8607 0.000954 10.368500 10.36860 0.000219  10.43744   \n",
       "\n",
       "                                                                                                                                         R1_mean  \\\n",
       "12.8617 10.3682 10.4375 11.6697 13.4927 13.3412 8.04133 8.73908 26.2308 59.0299 12.862100 12.8621 0.000000 10.368300 10.36830 0.000000  10.43830   \n",
       "12.8607 10.3686 10.4370 11.6696 13.4924 13.3405 8.04101 8.73915 26.2365 59.0093 12.861900 12.8619 0.000200 10.368250 10.36825 0.000050  10.43790   \n",
       "12.8602 10.3686 10.4370 11.6697 13.4921 13.3398 8.04086 8.73936 26.2416 58.9905 12.861500 12.8617 0.000589 10.368367 10.36830 0.000170  10.43750   \n",
       "12.8595 10.3688 10.4374 11.6699 13.4919 13.3390 8.04087 8.73986 26.2462 58.9736 12.861175 12.8612 0.000760 10.368425 10.36845 0.000179  10.43725   \n",
       "12.8594 10.3691 10.4376 11.6702 13.4921 13.3382 8.04088 8.74016 26.2503 58.9583 12.860840 12.8607 0.000954 10.368500 10.36860 0.000219  10.43740   \n",
       "\n",
       "                                                                                                                                          R1_dev  \\\n",
       "12.8617 10.3682 10.4375 11.6697 13.4927 13.3412 8.04133 8.73908 26.2308 59.0299 12.862100 12.8621 0.000000 10.368300 10.36830 0.000000  0.000000   \n",
       "12.8607 10.3686 10.4370 11.6696 13.4924 13.3405 8.04101 8.73915 26.2365 59.0093 12.861900 12.8619 0.000200 10.368250 10.36825 0.000050  0.000400   \n",
       "12.8602 10.3686 10.4370 11.6697 13.4921 13.3398 8.04086 8.73936 26.2416 58.9905 12.861500 12.8617 0.000589 10.368367 10.36830 0.000170  0.000535   \n",
       "12.8595 10.3688 10.4374 11.6699 13.4919 13.3390 8.04087 8.73986 26.2462 58.9736 12.861175 12.8612 0.000760 10.368425 10.36845 0.000179  0.000532   \n",
       "12.8594 10.3691 10.4376 11.6702 13.4921 13.3382 8.04088 8.74016 26.2503 58.9583 12.860840 12.8607 0.000954 10.368500 10.36860 0.000219  0.000476   \n",
       "\n",
       "                                                                                                                                               R2  \\\n",
       "12.8617 10.3682 10.4375 11.6697 13.4927 13.3412 8.04133 8.73908 26.2308 59.0299 12.862100 12.8621 0.000000 10.368300 10.36830 0.000000  11.669900   \n",
       "12.8607 10.3686 10.4370 11.6696 13.4924 13.3405 8.04101 8.73915 26.2365 59.0093 12.861900 12.8619 0.000200 10.368250 10.36825 0.000050  11.669800   \n",
       "12.8602 10.3686 10.4370 11.6697 13.4921 13.3398 8.04086 8.73936 26.2416 58.9905 12.861500 12.8617 0.000589 10.368367 10.36830 0.000170  11.669733   \n",
       "12.8595 10.3688 10.4374 11.6699 13.4919 13.3390 8.04087 8.73986 26.2462 58.9736 12.861175 12.8612 0.000760 10.368425 10.36845 0.000179  11.669725   \n",
       "12.8594 10.3691 10.4376 11.6702 13.4921 13.3382 8.04088 8.74016 26.2503 58.9583 12.860840 12.8607 0.000954 10.368500 10.36860 0.000219  11.669760   \n",
       "\n",
       "                                                                                                                                        R2_mean  \\\n",
       "12.8617 10.3682 10.4375 11.6697 13.4927 13.3412 8.04133 8.73908 26.2308 59.0299 12.862100 12.8621 0.000000 10.368300 10.36830 0.000000  11.6699   \n",
       "12.8607 10.3686 10.4370 11.6696 13.4924 13.3405 8.04101 8.73915 26.2365 59.0093 12.861900 12.8619 0.000200 10.368250 10.36825 0.000050  11.6698   \n",
       "12.8602 10.3686 10.4370 11.6697 13.4921 13.3398 8.04086 8.73936 26.2416 58.9905 12.861500 12.8617 0.000589 10.368367 10.36830 0.000170  11.6697   \n",
       "12.8595 10.3688 10.4374 11.6699 13.4919 13.3390 8.04087 8.73986 26.2462 58.9736 12.861175 12.8612 0.000760 10.368425 10.36845 0.000179  11.6697   \n",
       "12.8594 10.3691 10.4376 11.6702 13.4921 13.3382 8.04088 8.74016 26.2503 58.9583 12.860840 12.8607 0.000954 10.368500 10.36860 0.000219  11.6697   \n",
       "\n",
       "                                                                                                                                          R2_dev  \\\n",
       "12.8617 10.3682 10.4375 11.6697 13.4927 13.3412 8.04133 8.73908 26.2308 59.0299 12.862100 12.8621 0.000000 10.368300 10.36830 0.000000  0.000000   \n",
       "12.8607 10.3686 10.4370 11.6696 13.4924 13.3405 8.04101 8.73915 26.2365 59.0093 12.861900 12.8619 0.000200 10.368250 10.36825 0.000050  0.000100   \n",
       "12.8602 10.3686 10.4370 11.6697 13.4921 13.3398 8.04086 8.73936 26.2416 58.9905 12.861500 12.8617 0.000589 10.368367 10.36830 0.000170  0.000125   \n",
       "12.8595 10.3688 10.4374 11.6699 13.4919 13.3390 8.04087 8.73986 26.2462 58.9736 12.861175 12.8612 0.000760 10.368425 10.36845 0.000179  0.000109   \n",
       "12.8594 10.3691 10.4376 11.6702 13.4921 13.3382 8.04088 8.74016 26.2503 58.9583 12.860840 12.8607 0.000954 10.368500 10.36860 0.000219  0.000120   \n",
       "\n",
       "                                                                                                                                               R3  \\\n",
       "12.8617 10.3682 10.4375 11.6697 13.4927 13.3412 8.04133 8.73908 26.2308 59.0299 12.862100 12.8621 0.000000 10.368300 10.36830 0.000000  13.493100   \n",
       "12.8607 10.3686 10.4370 11.6696 13.4924 13.3405 8.04101 8.73915 26.2365 59.0093 12.861900 12.8619 0.000200 10.368250 10.36825 0.000050  13.492900   \n",
       "12.8602 10.3686 10.4370 11.6697 13.4921 13.3398 8.04086 8.73936 26.2416 58.9905 12.861500 12.8617 0.000589 10.368367 10.36830 0.000170  13.492733   \n",
       "12.8595 10.3688 10.4374 11.6699 13.4919 13.3390 8.04087 8.73986 26.2462 58.9736 12.861175 12.8612 0.000760 10.368425 10.36845 0.000179  13.492575   \n",
       "12.8594 10.3691 10.4376 11.6702 13.4921 13.3382 8.04088 8.74016 26.2503 58.9583 12.860840 12.8607 0.000954 10.368500 10.36860 0.000219  13.492440   \n",
       "\n",
       "                                                                                                                                         R3_mean  \\\n",
       "12.8617 10.3682 10.4375 11.6697 13.4927 13.3412 8.04133 8.73908 26.2308 59.0299 12.862100 12.8621 0.000000 10.368300 10.36830 0.000000  13.49310   \n",
       "12.8607 10.3686 10.4370 11.6696 13.4924 13.3405 8.04101 8.73915 26.2365 59.0093 12.861900 12.8619 0.000200 10.368250 10.36825 0.000050  13.49290   \n",
       "12.8602 10.3686 10.4370 11.6697 13.4921 13.3398 8.04086 8.73936 26.2416 58.9905 12.861500 12.8617 0.000589 10.368367 10.36830 0.000170  13.49270   \n",
       "12.8595 10.3688 10.4374 11.6699 13.4919 13.3390 8.04087 8.73986 26.2462 58.9736 12.861175 12.8612 0.000760 10.368425 10.36845 0.000179  13.49255   \n",
       "12.8594 10.3691 10.4376 11.6702 13.4921 13.3382 8.04088 8.74016 26.2503 58.9583 12.860840 12.8607 0.000954 10.368500 10.36860 0.000219  13.49240   \n",
       "\n",
       "                                                                                                                                          R3_dev  \\\n",
       "12.8617 10.3682 10.4375 11.6697 13.4927 13.3412 8.04133 8.73908 26.2308 59.0299 12.862100 12.8621 0.000000 10.368300 10.36830 0.000000  0.000000   \n",
       "12.8607 10.3686 10.4370 11.6696 13.4924 13.3405 8.04101 8.73915 26.2365 59.0093 12.861900 12.8619 0.000200 10.368250 10.36825 0.000050  0.000200   \n",
       "12.8602 10.3686 10.4370 11.6697 13.4921 13.3398 8.04086 8.73936 26.2416 58.9905 12.861500 12.8617 0.000589 10.368367 10.36830 0.000170  0.000287   \n",
       "12.8595 10.3688 10.4374 11.6699 13.4919 13.3390 8.04087 8.73986 26.2462 58.9736 12.861175 12.8612 0.000760 10.368425 10.36845 0.000179  0.000370   \n",
       "12.8594 10.3691 10.4376 11.6702 13.4921 13.3382 8.04088 8.74016 26.2503 58.9583 12.860840 12.8607 0.000954 10.368500 10.36860 0.000219  0.000427   \n",
       "\n",
       "                                                                                                                                               R4  \\\n",
       "12.8617 10.3682 10.4375 11.6697 13.4927 13.3412 8.04133 8.73908 26.2308 59.0299 12.862100 12.8621 0.000000 10.368300 10.36830 0.000000  13.342300   \n",
       "12.8607 10.3686 10.4370 11.6696 13.4924 13.3405 8.04101 8.73915 26.2365 59.0093 12.861900 12.8619 0.000200 10.368250 10.36825 0.000050  13.341750   \n",
       "12.8602 10.3686 10.4370 11.6697 13.4921 13.3398 8.04086 8.73936 26.2416 58.9905 12.861500 12.8617 0.000589 10.368367 10.36830 0.000170  13.341333   \n",
       "12.8595 10.3688 10.4374 11.6699 13.4919 13.3390 8.04087 8.73986 26.2462 58.9736 12.861175 12.8612 0.000760 10.368425 10.36845 0.000179  13.340950   \n",
       "12.8594 10.3691 10.4376 11.6702 13.4921 13.3382 8.04088 8.74016 26.2503 58.9583 12.860840 12.8607 0.000954 10.368500 10.36860 0.000219  13.340560   \n",
       "\n",
       "                                                                                                                                        ...  \\\n",
       "12.8617 10.3682 10.4375 11.6697 13.4927 13.3412 8.04133 8.73908 26.2308 59.0299 12.862100 12.8621 0.000000 10.368300 10.36830 0.000000  ...   \n",
       "12.8607 10.3686 10.4370 11.6696 13.4924 13.3405 8.04101 8.73915 26.2365 59.0093 12.861900 12.8619 0.000200 10.368250 10.36825 0.000050  ...   \n",
       "12.8602 10.3686 10.4370 11.6697 13.4921 13.3398 8.04086 8.73936 26.2416 58.9905 12.861500 12.8617 0.000589 10.368367 10.36830 0.000170  ...   \n",
       "12.8595 10.3688 10.4374 11.6699 13.4919 13.3390 8.04087 8.73986 26.2462 58.9736 12.861175 12.8612 0.000760 10.368425 10.36845 0.000179  ...   \n",
       "12.8594 10.3691 10.4376 11.6702 13.4921 13.3382 8.04088 8.74016 26.2503 58.9583 12.860840 12.8607 0.000954 10.368500 10.36860 0.000219  ...   \n",
       "\n",
       "                                                                                                                                              R6  \\\n",
       "12.8617 10.3682 10.4375 11.6697 13.4927 13.3412 8.04133 8.73908 26.2308 59.0299 12.862100 12.8621 0.000000 10.368300 10.36830 0.000000  8.739010   \n",
       "12.8607 10.3686 10.4370 11.6696 13.4924 13.3405 8.04101 8.73915 26.2365 59.0093 12.861900 12.8619 0.000200 10.368250 10.36825 0.000050  8.739045   \n",
       "12.8602 10.3686 10.4370 11.6697 13.4921 13.3398 8.04086 8.73936 26.2416 58.9905 12.861500 12.8617 0.000589 10.368367 10.36830 0.000170  8.739080   \n",
       "12.8595 10.3688 10.4374 11.6699 13.4919 13.3390 8.04087 8.73986 26.2462 58.9736 12.861175 12.8612 0.000760 10.368425 10.36845 0.000179  8.739150   \n",
       "12.8594 10.3691 10.4376 11.6702 13.4921 13.3382 8.04088 8.74016 26.2503 58.9583 12.860840 12.8607 0.000954 10.368500 10.36860 0.000219  8.739292   \n",
       "\n",
       "                                                                                                                                         R6_mean  \\\n",
       "12.8617 10.3682 10.4375 11.6697 13.4927 13.3412 8.04133 8.73908 26.2308 59.0299 12.862100 12.8621 0.000000 10.368300 10.36830 0.000000  8.739010   \n",
       "12.8607 10.3686 10.4370 11.6696 13.4924 13.3405 8.04101 8.73915 26.2365 59.0093 12.861900 12.8619 0.000200 10.368250 10.36825 0.000050  8.739045   \n",
       "12.8602 10.3686 10.4370 11.6697 13.4921 13.3398 8.04086 8.73936 26.2416 58.9905 12.861500 12.8617 0.000589 10.368367 10.36830 0.000170  8.739080   \n",
       "12.8595 10.3688 10.4374 11.6699 13.4919 13.3390 8.04087 8.73986 26.2462 58.9736 12.861175 12.8612 0.000760 10.368425 10.36845 0.000179  8.739115   \n",
       "12.8594 10.3691 10.4376 11.6702 13.4921 13.3382 8.04088 8.74016 26.2503 58.9583 12.860840 12.8607 0.000954 10.368500 10.36860 0.000219  8.739150   \n",
       "\n",
       "                                                                                                                                          R6_dev  \\\n",
       "12.8617 10.3682 10.4375 11.6697 13.4927 13.3412 8.04133 8.73908 26.2308 59.0299 12.862100 12.8621 0.000000 10.368300 10.36830 0.000000  0.000000   \n",
       "12.8607 10.3686 10.4370 11.6696 13.4924 13.3405 8.04101 8.73915 26.2365 59.0093 12.861900 12.8619 0.000200 10.368250 10.36825 0.000050  0.000035   \n",
       "12.8602 10.3686 10.4370 11.6697 13.4921 13.3398 8.04086 8.73936 26.2416 58.9905 12.861500 12.8617 0.000589 10.368367 10.36830 0.000170  0.000057   \n",
       "12.8595 10.3688 10.4374 11.6699 13.4919 13.3390 8.04087 8.73986 26.2462 58.9736 12.861175 12.8612 0.000760 10.368425 10.36845 0.000179  0.000131   \n",
       "12.8594 10.3691 10.4376 11.6702 13.4921 13.3382 8.04088 8.74016 26.2503 58.9583 12.860840 12.8607 0.000954 10.368500 10.36860 0.000219  0.000307   \n",
       "\n",
       "                                                                                                                                              R7  \\\n",
       "12.8617 10.3682 10.4375 11.6697 13.4927 13.3412 8.04133 8.73908 26.2308 59.0299 12.862100 12.8621 0.000000 10.368300 10.36830 0.000000  26.22570   \n",
       "12.8607 10.3686 10.4370 11.6696 13.4924 13.3405 8.04101 8.73915 26.2365 59.0093 12.861900 12.8619 0.000200 10.368250 10.36825 0.000050  26.22825   \n",
       "12.8602 10.3686 10.4370 11.6697 13.4921 13.3398 8.04086 8.73936 26.2416 58.9905 12.861500 12.8617 0.000589 10.368367 10.36830 0.000170  26.23100   \n",
       "12.8595 10.3688 10.4374 11.6699 13.4919 13.3390 8.04087 8.73986 26.2462 58.9736 12.861175 12.8612 0.000760 10.368425 10.36845 0.000179  26.23365   \n",
       "12.8594 10.3691 10.4376 11.6702 13.4921 13.3382 8.04088 8.74016 26.2503 58.9583 12.860840 12.8607 0.000954 10.368500 10.36860 0.000219  26.23616   \n",
       "\n",
       "                                                                                                                                         R7_mean  \\\n",
       "12.8617 10.3682 10.4375 11.6697 13.4927 13.3412 8.04133 8.73908 26.2308 59.0299 12.862100 12.8621 0.000000 10.368300 10.36830 0.000000  26.22570   \n",
       "12.8607 10.3686 10.4370 11.6696 13.4924 13.3405 8.04101 8.73915 26.2365 59.0093 12.861900 12.8619 0.000200 10.368250 10.36825 0.000050  26.22825   \n",
       "12.8602 10.3686 10.4370 11.6697 13.4921 13.3398 8.04086 8.73936 26.2416 58.9905 12.861500 12.8617 0.000589 10.368367 10.36830 0.000170  26.23080   \n",
       "12.8595 10.3688 10.4374 11.6699 13.4919 13.3390 8.04087 8.73986 26.2462 58.9736 12.861175 12.8612 0.000760 10.368425 10.36845 0.000179  26.23365   \n",
       "12.8594 10.3691 10.4376 11.6702 13.4921 13.3382 8.04088 8.74016 26.2503 58.9583 12.860840 12.8607 0.000954 10.368500 10.36860 0.000219  26.23650   \n",
       "\n",
       "                                                                                                                                          R7_dev  \\\n",
       "12.8617 10.3682 10.4375 11.6697 13.4927 13.3412 8.04133 8.73908 26.2308 59.0299 12.862100 12.8621 0.000000 10.368300 10.36830 0.000000  0.000000   \n",
       "12.8607 10.3686 10.4370 11.6696 13.4924 13.3405 8.04101 8.73915 26.2365 59.0093 12.861900 12.8619 0.000200 10.368250 10.36825 0.000050  0.002550   \n",
       "12.8602 10.3686 10.4370 11.6697 13.4921 13.3398 8.04086 8.73936 26.2416 58.9905 12.861500 12.8617 0.000589 10.368367 10.36830 0.000170  0.004411   \n",
       "12.8595 10.3688 10.4374 11.6699 13.4919 13.3390 8.04087 8.73986 26.2462 58.9736 12.861175 12.8612 0.000760 10.368425 10.36845 0.000179  0.005972   \n",
       "12.8594 10.3691 10.4376 11.6702 13.4921 13.3382 8.04088 8.74016 26.2503 58.9583 12.860840 12.8607 0.000954 10.368500 10.36860 0.000219  0.007330   \n",
       "\n",
       "                                                                                                                                               R8  \\\n",
       "12.8617 10.3682 10.4375 11.6697 13.4927 13.3412 8.04133 8.73908 26.2308 59.0299 12.862100 12.8621 0.000000 10.368300 10.36830 0.000000  59.052800   \n",
       "12.8607 10.3686 10.4370 11.6696 13.4924 13.3405 8.04101 8.73915 26.2365 59.0093 12.861900 12.8619 0.000200 10.368250 10.36825 0.000050  59.041350   \n",
       "12.8602 10.3686 10.4370 11.6697 13.4921 13.3398 8.04086 8.73936 26.2416 58.9905 12.861500 12.8617 0.000589 10.368367 10.36830 0.000170  59.030667   \n",
       "12.8595 10.3688 10.4374 11.6699 13.4919 13.3390 8.04087 8.73986 26.2462 58.9736 12.861175 12.8612 0.000760 10.368425 10.36845 0.000179  59.020625   \n",
       "12.8594 10.3691 10.4376 11.6702 13.4921 13.3382 8.04088 8.74016 26.2503 58.9583 12.860840 12.8607 0.000954 10.368500 10.36860 0.000219  59.011220   \n",
       "\n",
       "                                                                                                                                         R8_mean  \\\n",
       "12.8617 10.3682 10.4375 11.6697 13.4927 13.3412 8.04133 8.73908 26.2308 59.0299 12.862100 12.8621 0.000000 10.368300 10.36830 0.000000  59.05280   \n",
       "12.8607 10.3686 10.4370 11.6696 13.4924 13.3405 8.04101 8.73915 26.2365 59.0093 12.861900 12.8619 0.000200 10.368250 10.36825 0.000050  59.04135   \n",
       "12.8602 10.3686 10.4370 11.6697 13.4921 13.3398 8.04086 8.73936 26.2416 58.9905 12.861500 12.8617 0.000589 10.368367 10.36830 0.000170  59.02990   \n",
       "12.8595 10.3688 10.4374 11.6699 13.4919 13.3390 8.04087 8.73986 26.2462 58.9736 12.861175 12.8612 0.000760 10.368425 10.36845 0.000179  59.01960   \n",
       "12.8594 10.3691 10.4376 11.6702 13.4921 13.3382 8.04088 8.74016 26.2503 58.9583 12.860840 12.8607 0.000954 10.368500 10.36860 0.000219  59.00930   \n",
       "\n",
       "                                                                                                                                          R8_dev  \\\n",
       "12.8617 10.3682 10.4375 11.6697 13.4927 13.3412 8.04133 8.73908 26.2308 59.0299 12.862100 12.8621 0.000000 10.368300 10.36830 0.000000  0.000000   \n",
       "12.8607 10.3686 10.4370 11.6696 13.4924 13.3405 8.04101 8.73915 26.2365 59.0093 12.861900 12.8619 0.000200 10.368250 10.36825 0.000050  0.011450   \n",
       "12.8602 10.3686 10.4370 11.6697 13.4921 13.3398 8.04086 8.73936 26.2416 58.9905 12.861500 12.8617 0.000589 10.368367 10.36830 0.000170  0.017767   \n",
       "12.8595 10.3688 10.4374 11.6699 13.4919 13.3390 8.04087 8.73986 26.2462 58.9736 12.861175 12.8612 0.000760 10.368425 10.36845 0.000179  0.023222   \n",
       "12.8594 10.3691 10.4376 11.6702 13.4921 13.3382 8.04088 8.74016 26.2503 58.9583 12.860840 12.8607 0.000954 10.368500 10.36860 0.000219  0.028022   \n",
       "\n",
       "                                                                                                                                             class  \n",
       "12.8617 10.3682 10.4375 11.6697 13.4927 13.3412 8.04133 8.73908 26.2308 59.0299 12.862100 12.8621 0.000000 10.368300 10.36830 0.000000  background  \n",
       "12.8607 10.3686 10.4370 11.6696 13.4924 13.3405 8.04101 8.73915 26.2365 59.0093 12.861900 12.8619 0.000200 10.368250 10.36825 0.000050  background  \n",
       "12.8602 10.3686 10.4370 11.6697 13.4921 13.3398 8.04086 8.73936 26.2416 58.9905 12.861500 12.8617 0.000589 10.368367 10.36830 0.000170  background  \n",
       "12.8595 10.3688 10.4374 11.6699 13.4919 13.3390 8.04087 8.73986 26.2462 58.9736 12.861175 12.8612 0.000760 10.368425 10.36845 0.000179  background  \n",
       "12.8594 10.3691 10.4376 11.6702 13.4921 13.3382 8.04088 8.74016 26.2503 58.9583 12.860840 12.8607 0.000954 10.368500 10.36860 0.000219  background  \n",
       "\n",
       "[5 rows x 25 columns]"
      ]
     },
     "execution_count": 53,
     "metadata": {},
     "output_type": "execute_result"
    }
   ],
   "source": [
    "F_TEST_DATASET = \"./data/filas_test.dat\"\n",
    "FEATURES = [\n",
    "  'R1', 'R1_mean', 'R1_dev',\n",
    "  'R2', 'R2_mean', 'R2_dev',\n",
    "  'R3', 'R3_mean', 'R3_dev',\n",
    "  'R4', 'R4_mean', 'R4_dev',\n",
    "  'R5', 'R5_mean', 'R5_dev',\n",
    "  'R6', 'R6_mean', 'R6_dev',\n",
    "  'R7', 'R7_mean', 'R7_dev',\n",
    "  'R8', 'R8_mean', 'R8_dev',\n",
    "#   'Temp.', 'Temp._mean', 'Temp._dev',\n",
    "#   'Humidity', 'Humidity_mean', 'Humidity_dev',\n",
    "]\n",
    "\n",
    "dtest = pd.read_csv(F_TEST_DATASET, sep=\",\")\n",
    "dtest['class']  = 'background'\n",
    "dtest.head()"
   ]
  },
  {
   "cell_type": "code",
   "execution_count": 54,
   "id": "3c666354",
   "metadata": {},
   "outputs": [
    {
     "data": {
      "text/plain": [
       "(675168, 25)"
      ]
     },
     "execution_count": 54,
     "metadata": {},
     "output_type": "execute_result"
    }
   ],
   "source": [
    "dtest.shape"
   ]
  },
  {
   "cell_type": "code",
   "execution_count": 55,
   "id": "ed85b1a3",
   "metadata": {},
   "outputs": [
    {
     "name": "stdout",
     "output_type": "stream",
     "text": [
      "(675168,) (675168, 24)\n"
     ]
    },
    {
     "name": "stderr",
     "output_type": "stream",
     "text": [
      "[Parallel(n_jobs=1)]: Using backend SequentialBackend with 1 concurrent workers.\n",
      "[Parallel(n_jobs=1)]: Done  10 out of  10 | elapsed:    0.2s finished\n"
     ]
    },
    {
     "name": "stdout",
     "output_type": "stream",
     "text": [
      "Accuracy: 0.8236290819470117\n",
      "Precision: 1.0\n",
      "F1-score: 0.9032857504856828\n"
     ]
    },
    {
     "data": {
      "image/png": "[encoded data removed]",
      "text/plain": [
       "<Figure size 448x336 with 2 Axes>"
      ]
     },
     "metadata": {},
     "output_type": "display_data"
    }
   ],
   "source": [
    "y_test=dtest['class']\n",
    "X_test = dtest[FEATURES]\n",
    "print(y_test.shape, X_test.shape)\n",
    "y_pred = clf.predict(X_test)\n",
    "\n",
    "print_metrics(y_test, y_pred)"
   ]
  },
  {
   "cell_type": "markdown",
   "id": "f4f5908b",
   "metadata": {},
   "source": [
    "Ahora haremos hyperparameter tuning para comprobar los mejores valores:\n",
    "\n",
    "* max_samples: Un decimal entre 0 y 1 que representa el % sobre el nº total de muestras sobre el que se crean los datasets bootstrap para entrenar los arboles. Un valor de 0.5 en un dataset de 100 muestras significa que cada arbol se entrena con un conjunto boostrap de 0.5·100 = 50 muestras\n",
    "\n",
    "* max_features: nº de atributos que se seleccionan aleatoriamente de cada punto de corte. Por defecto es la raiz cuadrada del numero de atributos (sqrt(24)~4 en nuestro caso). Comprobar valores entre 1 y 8 para ver si sqrt(24) es el mejor o no.\n",
    "\n",
    "* n_estimators: Numero de arboles en el bosque. Inicialmente lo ponemos a 10 y va bien. Mirar con valores < y > que 10. Por ej: 3, 5, 7, 10, 20, 30, 50, 100. Se supone que a partir del valor optimo el accuracy deberia aplanarse."
   ]
  },
  {
   "cell_type": "code",
   "execution_count": null,
   "id": "458b57a5",
   "metadata": {},
   "outputs": [],
   "source": []
  },
  {
   "cell_type": "code",
   "execution_count": null,
   "id": "c10d7ef2",
   "metadata": {},
   "outputs": [],
   "source": []
  },
  {
   "cell_type": "code",
   "execution_count": null,
   "id": "dcd72787",
   "metadata": {},
   "outputs": [],
   "source": []
  }
 ],
 "metadata": {
  "kernelspec": {
   "display_name": "Python 3 (ipykernel)",
   "language": "python",
   "name": "python3"
  },
  "language_info": {
   "codemirror_mode": {
    "name": "ipython",
    "version": 3
   },
   "file_extension": ".py",
   "mimetype": "text/x-python",
   "name": "python",
   "nbconvert_exporter": "python",
   "pygments_lexer": "ipython3",
   "version": "3.10.4"
  }
 },
 "nbformat": 4,
 "nbformat_minor": 5
}
