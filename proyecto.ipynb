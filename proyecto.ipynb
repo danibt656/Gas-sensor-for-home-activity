{
 "cells": [
  {
   "cell_type": "code",
   "execution_count": null,
   "id": "82a484f1",
   "metadata": {},
   "outputs": [
    {
     "ename": "",
     "evalue": "",
     "output_type": "error",
     "traceback": [
      "\u001b[1;31mFailed to start the Kernel. \n",
      "\u001b[1;31mUnable to start Kernel 'env (Python 3.8.10)' due to connection timeout. \n",
      "\u001b[1;31mView Jupyter <a href='command:jupyter.viewOutput'>log</a> for further details."
     ]
    }
   ],
   "source": [
    "import numpy as np\n",
    "import pandas as pd\n",
    "import matplotlib.pyplot as plt\n",
    "from src.utils.ds_formatter import format_all\n",
    "from src.dataset import Dataset\n",
    "\n",
    "OLD_F_METADATA = \"./data/HT_Sensor_metadata.dat\"\n",
    "F_METADATA = \"./data/HT_Sensor_metadata_new.dat\"\n",
    "OLD_F_DATASET = \"./data/HT_Sensor_dataset.dat\"\n",
    "F_DATASET = \"./data/HT_Sensor_dataset_new.dat\"\n",
    "\n",
    "format_all(OLD_F_METADATA, F_METADATA, OLD_F_DATASET, F_DATASET)"
   ]
  },
  {
   "cell_type": "code",
   "execution_count": null,
   "id": "520b057a",
   "metadata": {},
   "outputs": [
    {
     "ename": "",
     "evalue": "",
     "output_type": "error",
     "traceback": [
      "\u001b[1;31mFailed to start the Kernel. \n",
      "\u001b[1;31mUnable to start Kernel 'env (Python 3.8.10)' due to connection timeout. \n",
      "\u001b[1;31mView Jupyter <a href='command:jupyter.viewOutput'>log</a> for further details."
     ]
    }
   ],
   "source": [
    "md = pd.read_csv(F_METADATA, sep=\",\")\n",
    "md.head()"
   ]
  },
  {
   "cell_type": "code",
   "execution_count": 29,
   "id": "47c47edc",
   "metadata": {},
   "outputs": [
    {
     "data": {
      "text/html": [
       "<div>\n",
       "<style scoped>\n",
       "    .dataframe tbody tr th:only-of-type {\n",
       "        vertical-align: middle;\n",
       "    }\n",
       "\n",
       "    .dataframe tbody tr th {\n",
       "        vertical-align: top;\n",
       "    }\n",
       "\n",
       "    .dataframe thead th {\n",
       "        text-align: right;\n",
       "    }\n",
       "</style>\n",
       "<table border=\"1\" class=\"dataframe\">\n",
       "  <thead>\n",
       "    <tr style=\"text-align: right;\">\n",
       "      <th></th>\n",
       "      <th>id</th>\n",
       "      <th>time</th>\n",
       "      <th>R1</th>\n",
       "      <th>R2</th>\n",
       "      <th>R3</th>\n",
       "      <th>R4</th>\n",
       "      <th>R5</th>\n",
       "      <th>R6</th>\n",
       "      <th>R7</th>\n",
       "      <th>R8</th>\n",
       "      <th>Temp.</th>\n",
       "      <th>Humidity</th>\n",
       "    </tr>\n",
       "  </thead>\n",
       "  <tbody>\n",
       "    <tr>\n",
       "      <th>0</th>\n",
       "      <td>0</td>\n",
       "      <td>-0.999750</td>\n",
       "      <td>12.8621</td>\n",
       "      <td>10.3683</td>\n",
       "      <td>10.4383</td>\n",
       "      <td>11.6699</td>\n",
       "      <td>13.4931</td>\n",
       "      <td>13.3423</td>\n",
       "      <td>8.04169</td>\n",
       "      <td>8.73901</td>\n",
       "      <td>26.2257</td>\n",
       "      <td>59.0528</td>\n",
       "    </tr>\n",
       "    <tr>\n",
       "      <th>1</th>\n",
       "      <td>0</td>\n",
       "      <td>-0.999472</td>\n",
       "      <td>12.8617</td>\n",
       "      <td>10.3682</td>\n",
       "      <td>10.4375</td>\n",
       "      <td>11.6697</td>\n",
       "      <td>13.4927</td>\n",
       "      <td>13.3412</td>\n",
       "      <td>8.04133</td>\n",
       "      <td>8.73908</td>\n",
       "      <td>26.2308</td>\n",
       "      <td>59.0299</td>\n",
       "    </tr>\n",
       "    <tr>\n",
       "      <th>2</th>\n",
       "      <td>0</td>\n",
       "      <td>-0.999194</td>\n",
       "      <td>12.8607</td>\n",
       "      <td>10.3686</td>\n",
       "      <td>10.4370</td>\n",
       "      <td>11.6696</td>\n",
       "      <td>13.4924</td>\n",
       "      <td>13.3405</td>\n",
       "      <td>8.04101</td>\n",
       "      <td>8.73915</td>\n",
       "      <td>26.2365</td>\n",
       "      <td>59.0093</td>\n",
       "    </tr>\n",
       "    <tr>\n",
       "      <th>3</th>\n",
       "      <td>0</td>\n",
       "      <td>-0.998916</td>\n",
       "      <td>12.8602</td>\n",
       "      <td>10.3686</td>\n",
       "      <td>10.4370</td>\n",
       "      <td>11.6697</td>\n",
       "      <td>13.4921</td>\n",
       "      <td>13.3398</td>\n",
       "      <td>8.04086</td>\n",
       "      <td>8.73936</td>\n",
       "      <td>26.2416</td>\n",
       "      <td>58.9905</td>\n",
       "    </tr>\n",
       "    <tr>\n",
       "      <th>4</th>\n",
       "      <td>0</td>\n",
       "      <td>-0.998627</td>\n",
       "      <td>12.8595</td>\n",
       "      <td>10.3688</td>\n",
       "      <td>10.4374</td>\n",
       "      <td>11.6699</td>\n",
       "      <td>13.4919</td>\n",
       "      <td>13.3390</td>\n",
       "      <td>8.04087</td>\n",
       "      <td>8.73986</td>\n",
       "      <td>26.2462</td>\n",
       "      <td>58.9736</td>\n",
       "    </tr>\n",
       "  </tbody>\n",
       "</table>\n",
       "</div>"
      ],
      "text/plain": [
       "   id      time       R1       R2       R3       R4       R5       R6  \\\n",
       "0   0 -0.999750  12.8621  10.3683  10.4383  11.6699  13.4931  13.3423   \n",
       "1   0 -0.999472  12.8617  10.3682  10.4375  11.6697  13.4927  13.3412   \n",
       "2   0 -0.999194  12.8607  10.3686  10.4370  11.6696  13.4924  13.3405   \n",
       "3   0 -0.998916  12.8602  10.3686  10.4370  11.6697  13.4921  13.3398   \n",
       "4   0 -0.998627  12.8595  10.3688  10.4374  11.6699  13.4919  13.3390   \n",
       "\n",
       "        R7       R8    Temp.  Humidity  \n",
       "0  8.04169  8.73901  26.2257   59.0528  \n",
       "1  8.04133  8.73908  26.2308   59.0299  \n",
       "2  8.04101  8.73915  26.2365   59.0093  \n",
       "3  8.04086  8.73936  26.2416   58.9905  \n",
       "4  8.04087  8.73986  26.2462   58.9736  "
      ]
     },
     "execution_count": 29,
     "metadata": {},
     "output_type": "execute_result"
    }
   ],
   "source": [
    "d = pd.read_csv(F_DATASET, sep=\",\")\n",
    "d.head()"
   ]
  },
  {
   "cell_type": "code",
   "execution_count": 34,
   "id": "15f1f9e5",
   "metadata": {},
   "outputs": [],
   "source": [
    "\"\"\"\n",
    "Ejemplo de atributos a considerar inicialmente\n",
    "\"\"\"\n",
    "attrs = ['id', 'time',\n",
    "         'R1', 'R1_mean', 'R1_median', 'R1_dev',\n",
    "         'R2', 'R2_mean', 'R2_median', 'R2_dev',\n",
    "         'R3', 'R3_mean', 'R3_median', 'R3_dev',\n",
    "         'R4', 'R4_mean', 'R4_median', 'R4_dev',\n",
    "         'R5', 'R5_mean', 'R5_median', 'R5_dev',\n",
    "         'R6', 'R6_mean', 'R6_median', 'R6_dev',\n",
    "         'R7', 'R7_mean', 'R7_median', 'R7_dev',\n",
    "         'R8', 'R8_mean', 'R8_median', 'R8_dev',\n",
    "         'Temp.', 'Temp_mean', 'Temp_median', 'Temp_dev',\n",
    "         'Humidity', 'Hum_mean', 'Hum_median', 'Hum_dev',\n",
    "         ]\n",
    "\n",
    "\n",
    "F_FINAL_DATASET = \"./data/Final_dataset.dat\"\n",
    "TIME_WINDOW = 5\n",
    "with open(F_FINAL_DATASET, 'w') as f:\n",
    "    # Headers\n",
    "    f.write(','.join(attrs))\n",
    "    \n",
    "    \"\"\"\n",
    "    1. Por cada entrada en HT_Sensor_dataset_new.dat\n",
    "        2. Calcular media, mediana y desv. de cada sensor, temperatura y humedad en base a los ultimos 5 minutos\n",
    "        3. Añadir la nueva entrada a Final_dataset.dat\n",
    "    \"\"\"\n",
    "    for i, md_row in md.iterrows():\n",
    "        for j, d_row in d.iterrows():\n",
    "            \n",
    "            # Si no son el mismo dato, pasamos al siguiente\n",
    "            if md_row['id'] != d_row['id']: break\n",
    "            \n",
    "            search_to = d_row['time']*60            # Muestra actual a minutos\n",
    "            search_from = search_to - TIME_WINDOW   # Ventana de 5 minutos desde la que empezar a buscar\n",
    "            \n",
    "            # Debe estar dentro de la ventana de tiempo y tener el mismo ID.\n",
    "            coincidences = d[(d['time']*60 >= search_from) & (d['time']*60 < search_to) & (d['id'] == md_row['id'])]\n",
    "            \n",
    "            # 1. Calcular medias, medianas y desviaciones de los atributos del df 'coincidences'\n",
    "            # 2. Esos nuevos valores obtenidos, meterselos a la entrada 'd_row' y guardar esta nueva entrada compuesta: f.write(new_row)\n",
    "        \n"
   ]
  },
  {
   "cell_type": "code",
   "execution_count": null,
   "id": "5f9ba1e1",
   "metadata": {},
   "outputs": [],
   "source": []
  },
  {
   "cell_type": "code",
   "execution_count": 2,
   "id": "733a2755",
   "metadata": {},
   "outputs": [
    {
     "ename": "KeyError",
     "evalue": "'t0'",
     "output_type": "error",
     "traceback": [
      "\u001b[0;31m---------------------------------------------------------------------------\u001b[0m",
      "\u001b[0;31mKeyError\u001b[0m                                  Traceback (most recent call last)",
      "File \u001b[0;32m/mnt/c/Users/carlo/Desktop/FAA-Proyecto/Gas-sensor-for-home-activity/env/lib/python3.8/site-packages/pandas/core/indexes/base.py:3803\u001b[0m, in \u001b[0;36mIndex.get_loc\u001b[0;34m(self, key, method, tolerance)\u001b[0m\n\u001b[1;32m   3802\u001b[0m \u001b[39mtry\u001b[39;00m:\n\u001b[0;32m-> 3803\u001b[0m     \u001b[39mreturn\u001b[39;00m \u001b[39mself\u001b[39;49m\u001b[39m.\u001b[39;49m_engine\u001b[39m.\u001b[39;49mget_loc(casted_key)\n\u001b[1;32m   3804\u001b[0m \u001b[39mexcept\u001b[39;00m \u001b[39mKeyError\u001b[39;00m \u001b[39mas\u001b[39;00m err:\n",
      "File \u001b[0;32m/mnt/c/Users/carlo/Desktop/FAA-Proyecto/Gas-sensor-for-home-activity/env/lib/python3.8/site-packages/pandas/_libs/index.pyx:138\u001b[0m, in \u001b[0;36mpandas._libs.index.IndexEngine.get_loc\u001b[0;34m()\u001b[0m\n",
      "File \u001b[0;32m/mnt/c/Users/carlo/Desktop/FAA-Proyecto/Gas-sensor-for-home-activity/env/lib/python3.8/site-packages/pandas/_libs/index.pyx:165\u001b[0m, in \u001b[0;36mpandas._libs.index.IndexEngine.get_loc\u001b[0;34m()\u001b[0m\n",
      "File \u001b[0;32mpandas/_libs/hashtable_class_helper.pxi:5745\u001b[0m, in \u001b[0;36mpandas._libs.hashtable.PyObjectHashTable.get_item\u001b[0;34m()\u001b[0m\n",
      "File \u001b[0;32mpandas/_libs/hashtable_class_helper.pxi:5753\u001b[0m, in \u001b[0;36mpandas._libs.hashtable.PyObjectHashTable.get_item\u001b[0;34m()\u001b[0m\n",
      "\u001b[0;31mKeyError\u001b[0m: 't0'",
      "\nThe above exception was the direct cause of the following exception:\n",
      "\u001b[0;31mKeyError\u001b[0m                                  Traceback (most recent call last)",
      "Cell \u001b[0;32mIn[2], line 1\u001b[0m\n\u001b[0;32m----> 1\u001b[0m ds \u001b[39m=\u001b[39m Dataset(F_METADATA, F_DATASET)\n\u001b[1;32m      2\u001b[0m ds\u001b[39m.\u001b[39mdf\u001b[39m.\u001b[39mhead()\n",
      "File \u001b[0;32m/mnt/c/Users/carlo/Desktop/FAA-Proyecto/Gas-sensor-for-home-activity/src/dataset.py:38\u001b[0m, in \u001b[0;36mDataset.__init__\u001b[0;34m(self, md_fn, d_fn)\u001b[0m\n\u001b[1;32m     36\u001b[0m \u001b[39mself\u001b[39m\u001b[39m.\u001b[39mmeta_f \u001b[39m=\u001b[39m md_fn\n\u001b[1;32m     37\u001b[0m \u001b[39mself\u001b[39m\u001b[39m.\u001b[39mdata_f \u001b[39m=\u001b[39m d_fn\n\u001b[0;32m---> 38\u001b[0m \u001b[39mself\u001b[39m\u001b[39m.\u001b[39mdf \u001b[39m=\u001b[39m \u001b[39mself\u001b[39;49m\u001b[39m.\u001b[39;49mbuild_dataframe()\n",
      "File \u001b[0;32m/mnt/c/Users/carlo/Desktop/FAA-Proyecto/Gas-sensor-for-home-activity/src/dataset.py:80\u001b[0m, in \u001b[0;36mDataset.build_dataframe\u001b[0;34m(self)\u001b[0m\n\u001b[1;32m     62\u001b[0m \u001b[39mdef\u001b[39;00m \u001b[39mbuild_dataframe\u001b[39m(\u001b[39mself\u001b[39m):\n\u001b[1;32m     63\u001b[0m   \u001b[39m\"\"\"\u001b[39;00m\n\u001b[1;32m     64\u001b[0m \u001b[39m  Construye un dataset con atributos al uso para poder\u001b[39;00m\n\u001b[1;32m     65\u001b[0m \u001b[39m  ejecutar experimentos de ML\u001b[39;00m\n\u001b[0;32m   (...)\u001b[0m\n\u001b[1;32m     78\u001b[0m \u001b[39m    Un Dataframe de pandas con el dataset\u001b[39;00m\n\u001b[1;32m     79\u001b[0m \u001b[39m  \"\"\"\u001b[39;00m\n\u001b[0;32m---> 80\u001b[0m   join_df \u001b[39m=\u001b[39m \u001b[39mself\u001b[39;49m\u001b[39m.\u001b[39;49mjoin_metadata_dataset()\n\u001b[1;32m     82\u001b[0m   \u001b[39m# TODO construir dataset con atributos elegidos\u001b[39;00m\n\u001b[1;32m     84\u001b[0m   \u001b[39mreturn\u001b[39;00m join_df\n",
      "File \u001b[0;32m/mnt/c/Users/carlo/Desktop/FAA-Proyecto/Gas-sensor-for-home-activity/src/dataset.py:55\u001b[0m, in \u001b[0;36mDataset.join_metadata_dataset\u001b[0;34m(self)\u001b[0m\n\u001b[1;32m     52\u001b[0m df_data\u001b[39m.\u001b[39mjoin(df_meta, how\u001b[39m=\u001b[39m\u001b[39m'\u001b[39m\u001b[39minner\u001b[39m\u001b[39m'\u001b[39m)\n\u001b[1;32m     54\u001b[0m \u001b[39m# Recalcular time (para que no haya tiempos negativos)\u001b[39;00m\n\u001b[0;32m---> 55\u001b[0m df_data[\u001b[39m'\u001b[39m\u001b[39mtime\u001b[39m\u001b[39m'\u001b[39m] \u001b[39m+\u001b[39m\u001b[39m=\u001b[39m df_data[\u001b[39m'\u001b[39;49m\u001b[39mt0\u001b[39;49m\u001b[39m'\u001b[39;49m]\n\u001b[1;32m     57\u001b[0m df_data\u001b[39m.\u001b[39mset_index(np\u001b[39m.\u001b[39marange(df_data\u001b[39m.\u001b[39mshape[\u001b[39m0\u001b[39m]), inplace\u001b[39m=\u001b[39m\u001b[39mTrue\u001b[39;00m)\n\u001b[1;32m     59\u001b[0m \u001b[39mreturn\u001b[39;00m df_data\n",
      "File \u001b[0;32m/mnt/c/Users/carlo/Desktop/FAA-Proyecto/Gas-sensor-for-home-activity/env/lib/python3.8/site-packages/pandas/core/frame.py:3805\u001b[0m, in \u001b[0;36mDataFrame.__getitem__\u001b[0;34m(self, key)\u001b[0m\n\u001b[1;32m   3803\u001b[0m \u001b[39mif\u001b[39;00m \u001b[39mself\u001b[39m\u001b[39m.\u001b[39mcolumns\u001b[39m.\u001b[39mnlevels \u001b[39m>\u001b[39m \u001b[39m1\u001b[39m:\n\u001b[1;32m   3804\u001b[0m     \u001b[39mreturn\u001b[39;00m \u001b[39mself\u001b[39m\u001b[39m.\u001b[39m_getitem_multilevel(key)\n\u001b[0;32m-> 3805\u001b[0m indexer \u001b[39m=\u001b[39m \u001b[39mself\u001b[39;49m\u001b[39m.\u001b[39;49mcolumns\u001b[39m.\u001b[39;49mget_loc(key)\n\u001b[1;32m   3806\u001b[0m \u001b[39mif\u001b[39;00m is_integer(indexer):\n\u001b[1;32m   3807\u001b[0m     indexer \u001b[39m=\u001b[39m [indexer]\n",
      "File \u001b[0;32m/mnt/c/Users/carlo/Desktop/FAA-Proyecto/Gas-sensor-for-home-activity/env/lib/python3.8/site-packages/pandas/core/indexes/base.py:3805\u001b[0m, in \u001b[0;36mIndex.get_loc\u001b[0;34m(self, key, method, tolerance)\u001b[0m\n\u001b[1;32m   3803\u001b[0m     \u001b[39mreturn\u001b[39;00m \u001b[39mself\u001b[39m\u001b[39m.\u001b[39m_engine\u001b[39m.\u001b[39mget_loc(casted_key)\n\u001b[1;32m   3804\u001b[0m \u001b[39mexcept\u001b[39;00m \u001b[39mKeyError\u001b[39;00m \u001b[39mas\u001b[39;00m err:\n\u001b[0;32m-> 3805\u001b[0m     \u001b[39mraise\u001b[39;00m \u001b[39mKeyError\u001b[39;00m(key) \u001b[39mfrom\u001b[39;00m \u001b[39merr\u001b[39;00m\n\u001b[1;32m   3806\u001b[0m \u001b[39mexcept\u001b[39;00m \u001b[39mTypeError\u001b[39;00m:\n\u001b[1;32m   3807\u001b[0m     \u001b[39m# If we have a listlike key, _check_indexing_error will raise\u001b[39;00m\n\u001b[1;32m   3808\u001b[0m     \u001b[39m#  InvalidIndexError. Otherwise we fall through and re-raise\u001b[39;00m\n\u001b[1;32m   3809\u001b[0m     \u001b[39m#  the TypeError.\u001b[39;00m\n\u001b[1;32m   3810\u001b[0m     \u001b[39mself\u001b[39m\u001b[39m.\u001b[39m_check_indexing_error(key)\n",
      "\u001b[0;31mKeyError\u001b[0m: 't0'"
     ]
    }
   ],
   "source": [
    "\"\"\"\n",
    "Incompleto. \n",
    "No obstante, en la celda de arriba se esta implementando un metodo para generar el nuevo dataset con el que trabajar.\n",
    "Trabajar sobre dicha idea.\n",
    "\"\"\"\n",
    "ds = Dataset(F_METADATA, F_DATASET)\n",
    "ds.df.head()"
   ]
  },
  {
   "cell_type": "code",
   "execution_count": null,
   "id": "dc943d20",
   "metadata": {},
   "outputs": [],
   "source": []
  },
  {
   "cell_type": "code",
   "execution_count": null,
   "id": "c7109959",
   "metadata": {},
   "outputs": [],
   "source": []
  },
  {
   "cell_type": "code",
   "execution_count": null,
   "id": "bdc2f752",
   "metadata": {},
   "outputs": [],
   "source": []
  },
  {
   "cell_type": "code",
   "execution_count": null,
   "id": "be63068b",
   "metadata": {},
   "outputs": [],
   "source": []
  },
  {
   "cell_type": "code",
   "execution_count": null,
   "id": "06e88304",
   "metadata": {},
   "outputs": [],
   "source": []
  },
  {
   "cell_type": "code",
   "execution_count": null,
   "id": "71b8b4a4",
   "metadata": {},
   "outputs": [],
   "source": []
  },
  {
   "cell_type": "code",
   "execution_count": null,
   "id": "272af8ce",
   "metadata": {},
   "outputs": [],
   "source": []
  }
 ],
 "metadata": {
  "kernelspec": {
   "display_name": "env",
   "language": "python",
   "name": "python3"
  },
  "language_info": {
   "codemirror_mode": {
    "name": "ipython",
    "version": 3
   },
   "file_extension": ".py",
   "mimetype": "text/x-python",
   "name": "python",
   "nbconvert_exporter": "python",
   "pygments_lexer": "ipython3",
   "version": "3.8.10 (default, Nov 26 2021, 20:14:08) \n[GCC 9.3.0]"
  },
  "vscode": {
   "interpreter": {
    "hash": "c4260a949349146612bd3e546ffd8da73ddf87c9c3c6d030561029fc13caeb5c"
   }
  }
 },
 "nbformat": 4,
 "nbformat_minor": 5
}
