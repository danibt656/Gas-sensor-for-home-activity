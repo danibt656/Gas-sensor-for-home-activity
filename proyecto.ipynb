{
 "cells": [
  {
   "cell_type": "code",
   "execution_count": 6,
   "id": "82a484f1",
   "metadata": {},
   "outputs": [],
   "source": [
    "import numpy as np\n",
    "import pandas as pd\n",
    "import matplotlib.pyplot as plt\n",
    "import matplotlib\n",
    "matplotlib.style.use('seaborn-v0_8-colorblind')\n",
    "\n",
    "from src.utils.ds_formatter import format_all\n",
    "from src.dataset import *\n",
    "\n",
    "OLD_F_METADATA = \"./data/HT_Sensor_metadata.dat\"\n",
    "F_METADATA = \"./data/HT_Sensor_metadata_new.dat\"\n",
    "OLD_F_DATASET = \"./data/HT_Sensor_dataset.dat\"\n",
    "F_DATASET = \"./data/HT_Sensor_dataset_new.dat\""
   ]
  },
  {
   "cell_type": "markdown",
   "id": "379b9a8f",
   "metadata": {},
   "source": [
    "## Analisis de metadatos"
   ]
  },
  {
   "cell_type": "code",
   "execution_count": 8,
   "id": "89ca3544",
   "metadata": {},
   "outputs": [
    {
     "data": {
      "text/plain": [
       "Text(0, 0.5, '')"
      ]
     },
     "execution_count": 8,
     "metadata": {},
     "output_type": "execute_result"
    },
    {
     "data": {
      "image/png": "[encoded data removed]",
      "text/plain": [
       "<Figure size 640x480 with 1 Axes>"
      ]
     },
     "metadata": {},
     "output_type": "display_data"
    }
   ],
   "source": [
    "metadata = pd.read_csv(F_METADATA, sep=\",\")\n",
    "ax = metadata[\"class\"].value_counts().plot(kind=\"pie\")\n",
    "ax.set_ylabel('')"
   ]
  },
  {
   "cell_type": "code",
   "execution_count": 15,
   "id": "9b0f3091",
   "metadata": {},
   "outputs": [
    {
     "name": "stdout",
     "output_type": "stream",
     "text": [
      "ventana dt:\n",
      "\tMedia: 0.7515999999999999\n",
      "\tDesv.Std.: 0.42842374944779743\n"
     ]
    }
   ],
   "source": [
    "md_mean = metadata['dt'].mean()\n",
    "md_std = metadata['dt'].std()\n",
    "print(f'ventana dt:\\n\\tMedia: {md_mean}\\n\\tDesv.Std.: {md_std}')"
   ]
  },
  {
   "cell_type": "markdown",
   "id": "c065536c",
   "metadata": {},
   "source": [
    "## Analisis de Dataset definitivo"
   ]
  },
  {
   "cell_type": "code",
   "execution_count": 10,
   "id": "f5b8d59a",
   "metadata": {},
   "outputs": [
    {
     "data": {
      "text/html": [
       "<div>\n",
       "<style scoped>\n",
       "    .dataframe tbody tr th:only-of-type {\n",
       "        vertical-align: middle;\n",
       "    }\n",
       "\n",
       "    .dataframe tbody tr th {\n",
       "        vertical-align: top;\n",
       "    }\n",
       "\n",
       "    .dataframe thead th {\n",
       "        text-align: right;\n",
       "    }\n",
       "</style>\n",
       "<table border=\"1\" class=\"dataframe\">\n",
       "  <thead>\n",
       "    <tr style=\"text-align: right;\">\n",
       "      <th></th>\n",
       "      <th>R1</th>\n",
       "      <th>R1_mean</th>\n",
       "      <th>R1_median</th>\n",
       "      <th>R1_dev</th>\n",
       "      <th>R2</th>\n",
       "      <th>R2_mean</th>\n",
       "      <th>R2_median</th>\n",
       "      <th>R2_dev</th>\n",
       "      <th>R3</th>\n",
       "      <th>R3_mean</th>\n",
       "      <th>...</th>\n",
       "      <th>R8_dev</th>\n",
       "      <th>Temp.</th>\n",
       "      <th>Temp._mean</th>\n",
       "      <th>Temp._median</th>\n",
       "      <th>Temp._dev</th>\n",
       "      <th>Humidity</th>\n",
       "      <th>Hum_mean</th>\n",
       "      <th>Hum_median</th>\n",
       "      <th>Hum_dev</th>\n",
       "      <th>class</th>\n",
       "    </tr>\n",
       "  </thead>\n",
       "  <tbody>\n",
       "    <tr>\n",
       "      <th>0</th>\n",
       "      <td>12.8102</td>\n",
       "      <td>10.3665</td>\n",
       "      <td>10.4529</td>\n",
       "      <td>11.6742</td>\n",
       "      <td>13.4941</td>\n",
       "      <td>13.2749</td>\n",
       "      <td>8.30531</td>\n",
       "      <td>9.04553</td>\n",
       "      <td>26.4234</td>\n",
       "      <td>59.4725</td>\n",
       "      <td>...</td>\n",
       "      <td>9.055249</td>\n",
       "      <td>9.055620</td>\n",
       "      <td>0.005040</td>\n",
       "      <td>26.455933</td>\n",
       "      <td>26.46000</td>\n",
       "      <td>0.053836</td>\n",
       "      <td>58.967841</td>\n",
       "      <td>58.95435</td>\n",
       "      <td>0.253568</td>\n",
       "      <td>banana</td>\n",
       "    </tr>\n",
       "    <tr>\n",
       "      <th>1</th>\n",
       "      <td>12.8097</td>\n",
       "      <td>10.3655</td>\n",
       "      <td>10.4523</td>\n",
       "      <td>11.6734</td>\n",
       "      <td>13.4934</td>\n",
       "      <td>13.2740</td>\n",
       "      <td>8.30527</td>\n",
       "      <td>9.04545</td>\n",
       "      <td>26.4241</td>\n",
       "      <td>59.4745</td>\n",
       "      <td>...</td>\n",
       "      <td>9.055189</td>\n",
       "      <td>9.055575</td>\n",
       "      <td>0.005092</td>\n",
       "      <td>26.455474</td>\n",
       "      <td>26.45905</td>\n",
       "      <td>0.053763</td>\n",
       "      <td>58.969056</td>\n",
       "      <td>58.95435</td>\n",
       "      <td>0.255458</td>\n",
       "      <td>banana</td>\n",
       "    </tr>\n",
       "    <tr>\n",
       "      <th>2</th>\n",
       "      <td>12.8088</td>\n",
       "      <td>10.3645</td>\n",
       "      <td>10.4516</td>\n",
       "      <td>11.6731</td>\n",
       "      <td>13.4930</td>\n",
       "      <td>13.2730</td>\n",
       "      <td>8.30523</td>\n",
       "      <td>9.04538</td>\n",
       "      <td>26.4246</td>\n",
       "      <td>59.4763</td>\n",
       "      <td>...</td>\n",
       "      <td>9.055130</td>\n",
       "      <td>9.055535</td>\n",
       "      <td>0.005143</td>\n",
       "      <td>26.455001</td>\n",
       "      <td>26.45860</td>\n",
       "      <td>0.053666</td>\n",
       "      <td>58.970404</td>\n",
       "      <td>58.95435</td>\n",
       "      <td>0.257481</td>\n",
       "      <td>banana</td>\n",
       "    </tr>\n",
       "    <tr>\n",
       "      <th>3</th>\n",
       "      <td>12.8080</td>\n",
       "      <td>10.3638</td>\n",
       "      <td>10.4508</td>\n",
       "      <td>11.6727</td>\n",
       "      <td>13.4922</td>\n",
       "      <td>13.2719</td>\n",
       "      <td>8.30520</td>\n",
       "      <td>9.04516</td>\n",
       "      <td>26.4251</td>\n",
       "      <td>59.4779</td>\n",
       "      <td>...</td>\n",
       "      <td>9.055071</td>\n",
       "      <td>9.055490</td>\n",
       "      <td>0.005194</td>\n",
       "      <td>26.454513</td>\n",
       "      <td>26.45820</td>\n",
       "      <td>0.053545</td>\n",
       "      <td>58.971872</td>\n",
       "      <td>58.95435</td>\n",
       "      <td>0.259607</td>\n",
       "      <td>banana</td>\n",
       "    </tr>\n",
       "    <tr>\n",
       "      <th>4</th>\n",
       "      <td>12.8078</td>\n",
       "      <td>10.3628</td>\n",
       "      <td>10.4503</td>\n",
       "      <td>11.6722</td>\n",
       "      <td>13.4914</td>\n",
       "      <td>13.2708</td>\n",
       "      <td>8.30517</td>\n",
       "      <td>9.04511</td>\n",
       "      <td>26.4256</td>\n",
       "      <td>59.4793</td>\n",
       "      <td>...</td>\n",
       "      <td>9.055012</td>\n",
       "      <td>9.055460</td>\n",
       "      <td>0.005246</td>\n",
       "      <td>26.454013</td>\n",
       "      <td>26.45740</td>\n",
       "      <td>0.053402</td>\n",
       "      <td>58.973448</td>\n",
       "      <td>58.95435</td>\n",
       "      <td>0.261813</td>\n",
       "      <td>banana</td>\n",
       "    </tr>\n",
       "  </tbody>\n",
       "</table>\n",
       "<p>5 rows × 41 columns</p>\n",
       "</div>"
      ],
      "text/plain": [
       "        R1  R1_mean  R1_median   R1_dev       R2  R2_mean  R2_median   R2_dev  \\\n",
       "0  12.8102  10.3665    10.4529  11.6742  13.4941  13.2749    8.30531  9.04553   \n",
       "1  12.8097  10.3655    10.4523  11.6734  13.4934  13.2740    8.30527  9.04545   \n",
       "2  12.8088  10.3645    10.4516  11.6731  13.4930  13.2730    8.30523  9.04538   \n",
       "3  12.8080  10.3638    10.4508  11.6727  13.4922  13.2719    8.30520  9.04516   \n",
       "4  12.8078  10.3628    10.4503  11.6722  13.4914  13.2708    8.30517  9.04511   \n",
       "\n",
       "        R3  R3_mean  ...    R8_dev     Temp.  Temp._mean  Temp._median  \\\n",
       "0  26.4234  59.4725  ...  9.055249  9.055620    0.005040     26.455933   \n",
       "1  26.4241  59.4745  ...  9.055189  9.055575    0.005092     26.455474   \n",
       "2  26.4246  59.4763  ...  9.055130  9.055535    0.005143     26.455001   \n",
       "3  26.4251  59.4779  ...  9.055071  9.055490    0.005194     26.454513   \n",
       "4  26.4256  59.4793  ...  9.055012  9.055460    0.005246     26.454013   \n",
       "\n",
       "   Temp._dev  Humidity   Hum_mean  Hum_median   Hum_dev   class  \n",
       "0   26.46000  0.053836  58.967841    58.95435  0.253568  banana  \n",
       "1   26.45905  0.053763  58.969056    58.95435  0.255458  banana  \n",
       "2   26.45860  0.053666  58.970404    58.95435  0.257481  banana  \n",
       "3   26.45820  0.053545  58.971872    58.95435  0.259607  banana  \n",
       "4   26.45740  0.053402  58.973448    58.95435  0.261813  banana  \n",
       "\n",
       "[5 rows x 41 columns]"
      ]
     },
     "execution_count": 10,
     "metadata": {},
     "output_type": "execute_result"
    }
   ],
   "source": [
    "# Indicar en la flag si se recalcula o se usa el fichero ya hecho\n",
    "df = get_dataset(build_dataset=False, time_window=5)\n",
    "df.head()"
   ]
  },
  {
   "cell_type": "code",
   "execution_count": 11,
   "id": "cd43917b",
   "metadata": {},
   "outputs": [
    {
     "data": {
      "text/plain": [
       "(253699, 41)"
      ]
     },
     "execution_count": 11,
     "metadata": {},
     "output_type": "execute_result"
    }
   ],
   "source": [
    "df.shape"
   ]
  },
  {
   "cell_type": "code",
   "execution_count": 12,
   "id": "dc943d20",
   "metadata": {},
   "outputs": [
    {
     "data": {
      "text/plain": [
       "Text(0, 0.5, '')"
      ]
     },
     "execution_count": 12,
     "metadata": {},
     "output_type": "execute_result"
    },
    {
     "data": {
      "image/png": "[encoded data removed]",
      "text/plain": [
       "<Figure size 640x480 with 1 Axes>"
      ]
     },
     "metadata": {},
     "output_type": "display_data"
    }
   ],
   "source": [
    "ax = df[\"class\"].value_counts().plot(kind=\"pie\")\n",
    "ax.set_xlabel('Distribucion de clases en dataset')\n",
    "ax.set_ylabel('')"
   ]
  },
  {
   "cell_type": "code",
   "execution_count": null,
   "id": "bdc2f752",
   "metadata": {},
   "outputs": [],
   "source": []
  },
  {
   "cell_type": "code",
   "execution_count": null,
   "id": "be63068b",
   "metadata": {},
   "outputs": [],
   "source": []
  },
  {
   "cell_type": "code",
   "execution_count": null,
   "id": "06e88304",
   "metadata": {},
   "outputs": [],
   "source": []
  },
  {
   "cell_type": "code",
   "execution_count": null,
   "id": "71b8b4a4",
   "metadata": {},
   "outputs": [],
   "source": []
  },
  {
   "cell_type": "code",
   "execution_count": null,
   "id": "272af8ce",
   "metadata": {},
   "outputs": [],
   "source": []
  }
 ],
 "metadata": {
  "kernelspec": {
   "display_name": "Python 3 (ipykernel)",
   "language": "python",
   "name": "python3"
  },
  "language_info": {
   "codemirror_mode": {
    "name": "ipython",
    "version": 3
   },
   "file_extension": ".py",
   "mimetype": "text/x-python",
   "name": "python",
   "nbconvert_exporter": "python",
   "pygments_lexer": "ipython3",
   "version": "3.10.4"
  },
  "vscode": {
   "interpreter": {
    "hash": "c4260a949349146612bd3e546ffd8da73ddf87c9c3c6d030561029fc13caeb5c"
   }
  }
 },
 "nbformat": 4,
 "nbformat_minor": 5
}
